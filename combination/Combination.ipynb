{
 "cells": [
  {
   "cell_type": "markdown",
   "metadata": {},
   "source": [
    "Aug 18 2020"
   ]
  },
  {
   "cell_type": "markdown",
   "metadata": {
    "toc-hr-collapsed": true,
    "toc-nb-collapsed": true
   },
   "source": [
    "## template ##\n"
   ]
  },
  {
   "cell_type": "markdown",
   "metadata": {},
   "source": [
    "### combination ###"
   ]
  },
  {
   "cell_type": "code",
   "execution_count": 13,
   "metadata": {},
   "outputs": [
    {
     "name": "stdout",
     "output_type": "stream",
     "text": [
      "current d 0, n 2, s 0, curr [], ans []\n",
      "current d 1, n 2, s 1, curr [1], ans []\n",
      "current d 2, n 2, s 2, curr [1, 2], ans []\n",
      "current d 2, n 2, s 3, curr [1, 3], ans [[1, 2]]\n",
      "current d 1, n 2, s 2, curr [2], ans [[1, 2], [1, 3]]\n",
      "current d 2, n 2, s 3, curr [2, 3], ans [[1, 2], [1, 3]]\n",
      "current d 1, n 2, s 3, curr [3], ans [[1, 2], [1, 3], [2, 3]]\n"
     ]
    },
    {
     "data": {
      "text/plain": [
       "[[1, 2], [1, 3], [2, 3]]"
      ]
     },
     "execution_count": 13,
     "metadata": {},
     "output_type": "execute_result"
    }
   ],
   "source": [
    "\n",
    "def result(nums, n):\n",
    "    \n",
    "    def C(nums, d, n, s, curr, ans):\n",
    "        \"\"\"\n",
    "        nums: given array\n",
    "        d: depth\n",
    "        n: number of numbers to be taken  \n",
    "        curr: current combination\n",
    "        ans: final result\n",
    "        \"\"\"\n",
    "        print(f'current d {d}, n {n}, s {s}, curr {curr}, ans {ans}')\n",
    "        if d == n:\n",
    "            ans.append(curr[:])\n",
    "            return\n",
    "        for i in range(s, len(nums)):\n",
    "            curr.append(nums[i])\n",
    "            C(nums, d+1, n, i+1, curr, ans)\n",
    "            curr.pop()\n",
    "\n",
    "    ans = []\n",
    "    nums.sort()\n",
    "    C(nums, 0, n, 0, [], ans)\n",
    "    return ans\n",
    "\n",
    "result([1,2,3], 2)\n"
   ]
  },
  {
   "cell_type": "markdown",
   "metadata": {},
   "source": [
    "### Permutation"
   ]
  },
  {
   "cell_type": "code",
   "execution_count": 15,
   "metadata": {},
   "outputs": [
    {
     "name": "stdout",
     "output_type": "stream",
     "text": [
      "current d 0, n 2, used [False, False, False], curr [], ans []\n",
      "current d 1, n 2, used [True, False, False], curr [1], ans []\n",
      "current d 2, n 2, used [True, True, False], curr [1, 2], ans []\n",
      "current d 2, n 2, used [True, False, True], curr [1, 3], ans [[1, 2]]\n",
      "current d 1, n 2, used [False, True, False], curr [2], ans [[1, 2], [1, 3]]\n",
      "current d 2, n 2, used [True, True, False], curr [2, 1], ans [[1, 2], [1, 3]]\n",
      "current d 2, n 2, used [False, True, True], curr [2, 3], ans [[1, 2], [1, 3], [2, 1]]\n",
      "current d 1, n 2, used [False, False, True], curr [3], ans [[1, 2], [1, 3], [2, 1], [2, 3]]\n",
      "current d 2, n 2, used [True, False, True], curr [3, 1], ans [[1, 2], [1, 3], [2, 1], [2, 3]]\n",
      "current d 2, n 2, used [False, True, True], curr [3, 2], ans [[1, 2], [1, 3], [2, 1], [2, 3], [3, 1]]\n"
     ]
    },
    {
     "data": {
      "text/plain": [
       "[[1, 2], [1, 3], [2, 1], [2, 3], [3, 1], [3, 2]]"
      ]
     },
     "execution_count": 15,
     "metadata": {},
     "output_type": "execute_result"
    }
   ],
   "source": [
    "def result(nums, n):\n",
    "    \n",
    "    def P(nums, d, n, used, curr, ans):\n",
    "        \"\"\"\n",
    "        nums: given array\n",
    "        d: depth\n",
    "        n: number of numbers to be taken  \n",
    "        curr: current combination\n",
    "        ans: final result\n",
    "        \"\"\"\n",
    "        print(f'current d {d}, n {n}, used {used}, curr {curr}, ans {ans}')\n",
    "        if d == n:\n",
    "            ans.append(curr[:])\n",
    "            return\n",
    "        for i in range(0, len(nums)):\n",
    "            if used[i]: \n",
    "                continue\n",
    "            used[i] = True\n",
    "            curr.append(nums[i])\n",
    "            P(nums, d+1, n, used, curr, ans)\n",
    "            curr.pop()\n",
    "            used[i] = False\n",
    "    ans = []\n",
    "    nums.sort()\n",
    "    P(nums, 0, n, [False]*3, [], ans)\n",
    "    return ans\n",
    "\n",
    "result([1,2,3], 2)"
   ]
  },
  {
   "cell_type": "markdown",
   "metadata": {},
   "source": [
    "## Problem set ##"
   ]
  },
  {
   "cell_type": "markdown",
   "metadata": {},
   "source": [
    "### Combination sum ###\n",
    "\n",
    "Q 39.\n",
    "Given a set of candidate numbers (C) (without duplicates) and a target number (T), find all unique combinations in C where the candidate numbers sums to T. The same repeated number may be chosen from C unlimited number of times.\n",
    "\n",
    "Thought process:\n",
    "unique combination -> combination \n",
    "use T as s in the combination template\n"
   ]
  },
  {
   "cell_type": "code",
   "execution_count": 1,
   "metadata": {},
   "outputs": [
    {
     "data": {
      "text/plain": [
       "[[2, 3]]"
      ]
     },
     "execution_count": 1,
     "metadata": {},
     "output_type": "execute_result"
    }
   ],
   "source": [
    "def solution(C, T):\n",
    "    def c(C, T, s, curr, ans):\n",
    "        if T == 0:\n",
    "            ans.append(curr[:])\n",
    "        for i in range(s, len(C)):\n",
    "            if C[i] > T:\n",
    "                return\n",
    "            curr.append(C[i])\n",
    "            c(C, T - C[i], i+1, curr, ans)\n",
    "            curr.pop()\n",
    "    ans = []\n",
    "    C.sort()\n",
    "    c(C, T, 0, [], ans)\n",
    "    return ans\n",
    "\n",
    "solution([1,2,3, 8], 5)"
   ]
  },
  {
   "cell_type": "code",
   "execution_count": 26,
   "metadata": {},
   "outputs": [
    {
     "data": {
      "text/plain": [
       "[[2, 4],\n",
       " [3, 3],\n",
       " [1, 1, 4],\n",
       " [1, 2, 3],\n",
       " [2, 2, 2],\n",
       " [1, 1, 1, 3],\n",
       " [1, 1, 2, 2],\n",
       " [1, 1, 1, 1, 2],\n",
       " [1, 1, 1, 1, 1, 1]]"
      ]
     },
     "execution_count": 26,
     "metadata": {},
     "output_type": "execute_result"
    }
   ],
   "source": [
    "# Requirement of having output length sorted\n",
    "\n",
    "def solution(C, T):\n",
    "    def c(C, T, s, d, n, curr, ans):\n",
    "        if d == n:\n",
    "            if T == 0:\n",
    "                ans.append(curr[:])\n",
    "                \n",
    "        for i in range(s, len(C)):\n",
    "            if C[i] > T:\n",
    "                return\n",
    "            curr.append(C[i])\n",
    "            c(C, T - C[i], i, d+1, n, curr, ans)\n",
    "            curr.pop()\n",
    "    ans = []\n",
    "    C.sort()\n",
    "    for i in range(1, T//C[0]+ 1):\n",
    "        \n",
    "        c(C, T, 0, 0, i, [], ans)\n",
    "    return ans\n",
    "\n",
    "solution([1,2,3,4, 8],6 )"
   ]
  },
  {
   "cell_type": "markdown",
   "metadata": {},
   "source": [
    "### Combination sum II ###\n",
    "\n",
    "Q 30 Given a collection of candidate numbers (C) and a target number (T), find all unique combinations in C where the candidate numbers sums to T.\n",
    "Each number in C may only be used once in the combination."
   ]
  },
  {
   "cell_type": "code",
   "execution_count": 4,
   "metadata": {},
   "outputs": [],
   "source": [
    "# # using set -> python can't hash mutable type such as list\n",
    "# def solution(C, T):\n",
    "#     def c(C, T, s, curr, ans):\n",
    "#         if T == 0:\n",
    "#             ans.add(curr[:])\n",
    "#         for i in range(s, len(C)):\n",
    "#             if C[i] > T:\n",
    "#                 return\n",
    "#             curr.append(C[i])\n",
    "#             c(C, T-C[i], i+1, curr, ans)\n",
    "#             curr.pop()\n",
    "#     ans = set()\n",
    "#     C.sort()\n",
    "#     c(C, T, 0, [], ans)\n",
    "#     return ans\n",
    "\n",
    "# solution([1,1,2,3,4,5,7,6], 8)"
   ]
  },
  {
   "cell_type": "code",
   "execution_count": 7,
   "metadata": {},
   "outputs": [
    {
     "data": {
      "text/plain": [
       "[[1, 1, 6], [1, 2, 5], [1, 7], [2, 6]]"
      ]
     },
     "execution_count": 7,
     "metadata": {},
     "output_type": "execute_result"
    }
   ],
   "source": [
    "# disallow same value to appear in same depth\n",
    "def solution(C, T):\n",
    "    def c(C, T, s, curr, ans):\n",
    "        if T == 0:\n",
    "            ans.append(curr[:])\n",
    "        for i in range(s, len(C)):\n",
    "            if i > s and C[i] == C[i-1]:\n",
    "                continue\n",
    "            if C[i] > T:\n",
    "                return\n",
    "            curr.append(C[i])\n",
    "            c(C, T-C[i], i+1, curr, ans)\n",
    "            curr.pop()\n",
    "    ans = []\n",
    "    C.sort()\n",
    "    c(C, T, 0, [], ans)\n",
    "    return ans \n",
    "\n",
    "solution([10, 1, 2, 7, 6, 1, 5],8)"
   ]
  },
  {
   "cell_type": "markdown",
   "metadata": {},
   "source": [
    "### Combination Sum III ###"
   ]
  },
  {
   "cell_type": "markdown",
   "metadata": {},
   "source": [
    "Find all possible combinations of k numbers that add up to a number n, given that only numbers from 1 to 9 can be used and each combination should be a unique set of numbers."
   ]
  },
  {
   "cell_type": "code",
   "execution_count": 10,
   "metadata": {},
   "outputs": [
    {
     "data": {
      "text/plain": [
       "[[1, 2, 6], [1, 3, 5], [2, 3, 4]]"
      ]
     },
     "execution_count": 10,
     "metadata": {},
     "output_type": "execute_result"
    }
   ],
   "source": [
    "def solution(k, n):\n",
    "    def c(k, n, s, curr, ans):\n",
    "        if k == 0 and n == 0:\n",
    "            ans.append(curr[:])\n",
    "            return\n",
    "        for i in range(s, 10):\n",
    "            if i > n: return\n",
    "            curr.append(i)\n",
    "            c(k-1, n-i, i+1, curr, ans)\n",
    "            curr.pop()\n",
    "    \n",
    "    ans = []\n",
    "    c(k, n, 1, [], ans)\n",
    "    return ans\n",
    "\n",
    "solution(3, 9)\n"
   ]
  },
  {
   "cell_type": "markdown",
   "metadata": {},
   "source": [
    "### Combination ###"
   ]
  },
  {
   "cell_type": "markdown",
   "metadata": {},
   "source": [
    "Q 77 Given two integers n and k, return all possible combinations of k numbers out of 1 … n."
   ]
  },
  {
   "cell_type": "code",
   "execution_count": 32,
   "metadata": {},
   "outputs": [
    {
     "data": {
      "text/plain": [
       "[[1, 2],\n",
       " [1, 3],\n",
       " [1, 4],\n",
       " [1, 5],\n",
       " [1, 6],\n",
       " [2, 3],\n",
       " [2, 4],\n",
       " [2, 5],\n",
       " [2, 6],\n",
       " [3, 4],\n",
       " [3, 5],\n",
       " [3, 6],\n",
       " [4, 5],\n",
       " [4, 6],\n",
       " [5, 6]]"
      ]
     },
     "execution_count": 32,
     "metadata": {},
     "output_type": "execute_result"
    }
   ],
   "source": [
    "def solution(n, k):\n",
    "    def c(s):\n",
    "        if len(curr) == k:\n",
    "            ans.append(curr[:])\n",
    "            return\n",
    "        for i in range(s, n+1):\n",
    "            curr.append(i)\n",
    "            c(i+1)\n",
    "            curr.pop()\n",
    "          \n",
    "    ans = []\n",
    "    curr = []\n",
    "    c(1)\n",
    "    return ans\n",
    "solution(6, 2)"
   ]
  },
  {
   "cell_type": "code",
   "execution_count": 19,
   "metadata": {},
   "outputs": [
    {
     "data": {
      "text/plain": [
       "[[1, 2],\n",
       " [1, 3],\n",
       " [1, 4],\n",
       " [1, 5],\n",
       " [1, 6],\n",
       " [2, 3],\n",
       " [2, 4],\n",
       " [2, 5],\n",
       " [2, 6],\n",
       " [3, 4],\n",
       " [3, 5],\n",
       " [3, 6],\n",
       " [4, 5],\n",
       " [4, 6],\n",
       " [5, 6]]"
      ]
     },
     "execution_count": 19,
     "metadata": {},
     "output_type": "execute_result"
    }
   ],
   "source": [
    "def solution(n, k):\n",
    "    def c(n, k, s, curr, ans):\n",
    "        if len(curr) == k:\n",
    "            ans.append(curr[:])\n",
    "            return\n",
    "        for i in range(s, n+1):\n",
    "            curr.append(i)\n",
    "            c(n, k, i+1, curr, ans)\n",
    "            curr.pop()  \n",
    "    ans = []\n",
    "    curr = []\n",
    "    c(n, k, 1, [], ans)\n",
    "    return ans\n",
    "solution(6, 2)"
   ]
  }
 ],
 "metadata": {
  "kernelspec": {
   "display_name": "ct",
   "language": "python",
   "name": "ct"
  },
  "language_info": {
   "codemirror_mode": {
    "name": "ipython",
    "version": 3
   },
   "file_extension": ".py",
   "mimetype": "text/x-python",
   "name": "python",
   "nbconvert_exporter": "python",
   "pygments_lexer": "ipython3",
   "version": "3.6.10"
  },
  "toc-autonumbering": true,
  "toc-showmarkdowntxt": true
 },
 "nbformat": 4,
 "nbformat_minor": 4
}
