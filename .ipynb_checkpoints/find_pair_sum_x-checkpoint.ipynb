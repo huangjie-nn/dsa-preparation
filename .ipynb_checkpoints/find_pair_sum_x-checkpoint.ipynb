{
 "cells": [
  {
   "cell_type": "markdown",
   "metadata": {},
   "source": [
    "## Find number of pairs in a pivoted sorted arr with sum X"
   ]
  },
  {
   "cell_type": "code",
   "execution_count": 14,
   "metadata": {},
   "outputs": [
    {
     "data": {
      "text/plain": [
       "2"
      ]
     },
     "execution_count": 14,
     "metadata": {},
     "output_type": "execute_result"
    }
   ],
   "source": [
    "def solution(arr, n, X):\n",
    "    \"\"\"\n",
    "    another way of finding pivot point\n",
    "    \"\"\"\n",
    "    for i in range(n):\n",
    "        if arr[i] > arr[i+1]:\n",
    "            break\n",
    "    \"\"\"\n",
    "    i is the pivot point, \n",
    "    the index with the largest value\n",
    "    \"\"\"\n",
    "    l = (i+1) %n\n",
    "    r = i\n",
    "    cnt = 0\n",
    "    \n",
    "    \"\"\"\n",
    "    looping thru until l and r meet\n",
    "    \"\"\"\n",
    "    while l != r:\n",
    "        if arr[l] + arr[r] == X:\n",
    "            cnt += 1\n",
    "        \n",
    "            \"\"\"\n",
    "            check if l and r meet\n",
    "            \"\"\"\n",
    "            if l == (r-1+n) %n:\n",
    "                return cnt\n",
    "            \n",
    "        if arr[l] + arr[r] <X:\n",
    "            l = (l+1)%n\n",
    "            \n",
    "        else:\n",
    "            r = (r-1+n)%n\n",
    "    return cnt\n",
    "\n",
    "arr = [11, 15, 6, 7, 9, 10] \n",
    "s = 16\n",
    "solution(arr, 6, s)"
   ]
  }
 ],
 "metadata": {
  "kernelspec": {
   "display_name": "ct",
   "language": "python",
   "name": "ct"
  },
  "language_info": {
   "codemirror_mode": {
    "name": "ipython",
    "version": 3
   },
   "file_extension": ".py",
   "mimetype": "text/x-python",
   "name": "python",
   "nbconvert_exporter": "python",
   "pygments_lexer": "ipython3",
   "version": "3.6.10"
  },
  "toc-autonumbering": true
 },
 "nbformat": 4,
 "nbformat_minor": 4
}
