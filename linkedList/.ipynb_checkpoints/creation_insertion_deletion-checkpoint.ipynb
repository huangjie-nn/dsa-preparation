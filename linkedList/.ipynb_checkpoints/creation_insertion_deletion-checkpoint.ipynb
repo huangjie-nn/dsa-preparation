{
 "cells": [
  {
   "cell_type": "markdown",
   "metadata": {},
   "source": [
    "## Linked list implementation"
   ]
  },
  {
   "cell_type": "code",
   "execution_count": 1,
   "metadata": {},
   "outputs": [],
   "source": [
    "class Node:\n",
    "    def __init__(self, data):\n",
    "        self.data = data\n",
    "        self.next = None\n",
    "    \n",
    "class LinkedList:\n",
    "    def __init__(self):\n",
    "        self.head = None\n",
    "        \n",
    "    def printList(self):\n",
    "        temp = self.head\n",
    "        while (temp):\n",
    "            print(temp.data)\n",
    "            temp = temp.next\n",
    "            \n",
    "    def append(self, new_data)\n",
    "    \"\"\"\n",
    "    append means insert new node at the tail \n",
    "    \"\"\"\n",
    "        new_node = Node(new_data)\n",
    "        \n",
    "        if self.head == None:\n",
    "            self.head = new_node\n",
    "            return\n",
    "            \n",
    "        temp = self.head\n",
    "        while(temp.next):\n",
    "            temp = temp.next\n",
    "            \n",
    "        temp.next = new_node"
   ]
  },
  {
   "cell_type": "code",
   "execution_count": 2,
   "metadata": {},
   "outputs": [
    {
     "name": "stdout",
     "output_type": "stream",
     "text": [
      "1\n",
      "2\n",
      "3\n"
     ]
    }
   ],
   "source": [
    "node_1 = Node(1)\n",
    "node_2 = Node(2)\n",
    "node_3 = Node(3)\n",
    "l = LinkedList()\n",
    "l.head = node_1\n",
    "node_1.next = node_2\n",
    "node_2.next = node_3\n",
    "l.printList()"
   ]
  }
 ],
 "metadata": {
  "kernelspec": {
   "display_name": "ct",
   "language": "python",
   "name": "ct"
  },
  "language_info": {
   "codemirror_mode": {
    "name": "ipython",
    "version": 3
   },
   "file_extension": ".py",
   "mimetype": "text/x-python",
   "name": "python",
   "nbconvert_exporter": "python",
   "pygments_lexer": "ipython3",
   "version": "3.6.10"
  }
 },
 "nbformat": 4,
 "nbformat_minor": 4
}
