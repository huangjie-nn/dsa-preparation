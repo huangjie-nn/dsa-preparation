{
 "cells": [
  {
   "cell_type": "markdown",
   "metadata": {},
   "source": [
    "## Merge two sorted linkedlist\n",
    "\n",
    "assumption: the two linkedlist are sorted"
   ]
  },
  {
   "cell_type": "code",
   "execution_count": 23,
   "metadata": {},
   "outputs": [],
   "source": [
    "class Node:\n",
    "        def __init__(self,data):\n",
    "            self.data = data\n",
    "            self.next = None\n",
    "\n",
    "class LinkedList:\n",
    "    def __init__(self):\n",
    "        self.head = None\n",
    "\n",
    "    def push(self, data):\n",
    "        node = Node(data)\n",
    "        temp = self.head\n",
    "        if temp is None:\n",
    "            self.head = node\n",
    "        node.next = temp\n",
    "        self.head = node\n",
    "        \n",
    "    def printList(self):\n",
    "        node = self.head\n",
    "        \n",
    "        while node is not None:\n",
    "            print(node.data)\n",
    "            node = node.next\n",
    "                        \n",
    "def mergeLists(headA, headB):\n",
    "    dummyNode = Node(0)\n",
    "    tail = dummyNode\n",
    "\n",
    "    while True:\n",
    "        if headA is None:\n",
    "            tail.next = headB\n",
    "            break\n",
    "        elif headB is None:\n",
    "            tail.next = headA\n",
    "            break\n",
    "\n",
    "        if headA.data <= headB.data:\n",
    "            tail.next = headA\n",
    "            headA = headA.next\n",
    "        else:\n",
    "            tail.next = headB\n",
    "            headB = headB.next\n",
    "\n",
    "        tail = tail.next\n",
    "\n",
    "    return dummyNode.next\n",
    "\n",
    "def mergeListsByRec(headA, headB):\n",
    "    temp = None\n",
    "    \n",
    "    if headA is None:\n",
    "        return headB\n",
    "    if headB is None:\n",
    "        return headA\n",
    "    \n",
    "    if headA.data <= headB.data:\n",
    "        temp = headA\n",
    "        temp.next = mergeListsByRec(headA.next, headB)\n",
    "    else:\n",
    "        temp = headB\n",
    "        temp.next = mergeListsByRec(headA, headB.next)\n",
    "        \n",
    "    return temp"
   ]
  },
  {
   "cell_type": "code",
   "execution_count": 24,
   "metadata": {},
   "outputs": [
    {
     "name": "stdout",
     "output_type": "stream",
     "text": [
      "Merged Linked List is:\n",
      "2\n",
      "3\n",
      "5\n",
      "10\n",
      "15\n",
      "20\n"
     ]
    }
   ],
   "source": [
    "listA = LinkedList()\n",
    "listB = LinkedList()\n",
    " \n",
    "# Add elements to the list in sorted order\n",
    "listA.push(15)\n",
    "listA.push(10)\n",
    "listA.push(5)\n",
    " \n",
    "listB.push(20)\n",
    "listB.push(3)\n",
    "listB.push(2)\n",
    " \n",
    "# Call the merge function\n",
    "#listA.head = mergeLists(listA.head, listB.head)\n",
    "listA.head = mergeListsByRec(listA.head, listB.head)\n",
    "# Display merged list\n",
    "print(\"Merged Linked List is:\")\n",
    "listA.printList()"
   ]
  }
 ],
 "metadata": {
  "kernelspec": {
   "display_name": "ct",
   "language": "python",
   "name": "ct"
  },
  "language_info": {
   "codemirror_mode": {
    "name": "ipython",
    "version": 3
   },
   "file_extension": ".py",
   "mimetype": "text/x-python",
   "name": "python",
   "nbconvert_exporter": "python",
   "pygments_lexer": "ipython3",
   "version": "3.6.10"
  }
 },
 "nbformat": 4,
 "nbformat_minor": 4
}
