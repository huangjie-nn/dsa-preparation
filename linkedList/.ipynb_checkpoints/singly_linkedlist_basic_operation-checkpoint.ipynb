{
 "cells": [
  {
   "cell_type": "markdown",
   "metadata": {},
   "source": [
    "## Linked list implementation"
   ]
  },
  {
   "cell_type": "code",
   "execution_count": 12,
   "metadata": {},
   "outputs": [],
   "source": [
    "class Node:\n",
    "    def __init__(self, data):\n",
    "        self.data = data\n",
    "        self.next = None\n",
    "    \n",
    "class LinkedList:\n",
    "    def __init__(self):\n",
    "        self.head = None\n",
    "        \n",
    "    def printList(self):\n",
    "        temp = self.head\n",
    "        while (temp):\n",
    "            print(temp.data)\n",
    "            temp = temp.next\n",
    "            \n",
    "    def getCount(self):\n",
    "        cnt = 0\n",
    "        cur = self.head\n",
    "        if cur is None:\n",
    "            return 0\n",
    "        while cur is not None:\n",
    "            cur = cur.next\n",
    "            cnt += 1\n",
    "        return cnt\n",
    "            \n",
    "    def getCountRec(self):\n",
    "        return self.getCountLogic(self.head)\n",
    "    \n",
    "    def getCountLogic(self, node):\n",
    "        if node is None:\n",
    "            return 0\n",
    "        return 1+self.getCountLogic(node.next)\n",
    "        \n",
    "    def append(self, new_data):\n",
    "        \"\"\"\n",
    "        append means insert new node at the tail\n",
    "        \"\"\"\n",
    "        new_node = Node(new_data)\n",
    "        if self.head == None:\n",
    "            self.head = new_node\n",
    "            return\n",
    "            \n",
    "        temp = self.head\n",
    "        while(temp.next):\n",
    "            temp = temp.next\n",
    "            \n",
    "        temp.next = new_node\n",
    "    \n",
    "    def push(self, new_data):\n",
    "        \"\"\"\n",
    "        push means insert new node at the head\n",
    "        \"\"\"\n",
    "        new_node = Node(new_data)\n",
    "        new_node.next = self.head\n",
    "        self.head = new_node\n",
    "        \n",
    "    def insertAfter(self, prev_node, new_data):\n",
    "        \"\"\"\n",
    "        insert new node after prev_node\n",
    "        \"\"\"\n",
    "        if prev_node is None:\n",
    "            raise ValueError(\"prev_node not in the list\")\n",
    "            \n",
    "        new_node = Node(new_data)\n",
    "        new_node.next = prev_node.next\n",
    "        prev_node.next = new_node\n",
    "        \n",
    "    def deleteNodeByPosition(self, position):\n",
    "        temp = self.head\n",
    "        if temp is None:\n",
    "            return \n",
    "        \n",
    "        if position == 0:\n",
    "            self.head = temp.next\n",
    "            temp = None \n",
    "            return \n",
    "        \n",
    "        \"\"\"\n",
    "        try to reach to the prev node of the position\n",
    "        \"\"\"\n",
    "        for i in range(position -1):\n",
    "            temp = temp.next\n",
    "            if temp is None:\n",
    "                break\n",
    "        \n",
    "        \"\"\"\n",
    "        if position to be deleted is not exisitng\n",
    "        if the prev node to the position is not exisitng\n",
    "        \"\"\"\n",
    "        if temp is None:\n",
    "            return \n",
    "        if temp.next is None:\n",
    "            return\n",
    "        \n",
    "        new_next = temp.next.next\n",
    "        \n",
    "        \"\"\"\n",
    "        unlink the node first\n",
    "        \"\"\"\n",
    "        temp.next = None\n",
    "        temp.next = new_next\n",
    "        \n",
    "        \n",
    "    def deleteNode(self, key):\n",
    "        \"\"\"\n",
    "        edge case temp could be none\n",
    "        \"\"\"\n",
    "        temp = self.head\n",
    "\n",
    "        \"\"\"\n",
    "        check if the key is the head node\n",
    "        \"\"\"\n",
    "        if temp is not None:\n",
    "            if temp.data == key:\n",
    "                self.head = temp.next\n",
    "                temp = None\n",
    "                return \n",
    "        \n",
    "        while temp is not None:\n",
    "            if temp.data == key:\n",
    "                break\n",
    "            prev = temp \n",
    "            temp = temp.next\n",
    "        \n",
    "        if temp is None:\n",
    "            return \n",
    "        \n",
    "        prev.next = temp.next\n",
    "        temp = None"
   ]
  },
  {
   "cell_type": "code",
   "execution_count": 18,
   "metadata": {},
   "outputs": [
    {
     "name": "stdout",
     "output_type": "stream",
     "text": [
      "1\n",
      "7\n",
      "8\n",
      "6\n",
      "4\n"
     ]
    }
   ],
   "source": [
    "### trying out push, append, insertAfter\n",
    "l = LinkedList()\n",
    "l.append(6)\n",
    "l.push(7)\n",
    "l.push(1)\n",
    "l.append(4)\n",
    "l.insertAfter(l.head.next, 8)\n",
    "l.printList()"
   ]
  },
  {
   "cell_type": "code",
   "execution_count": 3,
   "metadata": {},
   "outputs": [
    {
     "name": "stdout",
     "output_type": "stream",
     "text": [
      "Created Linked List: \n",
      "2\n",
      "3\n",
      "1\n",
      "7\n",
      "\n",
      "Linked List after Deletion of 1:\n",
      "2\n",
      "3\n",
      "7\n"
     ]
    }
   ],
   "source": [
    "### trying out deleteNode\n",
    "llist = LinkedList()  \n",
    "llist.push(7)  \n",
    "llist.push(1)  \n",
    "llist.push(3)  \n",
    "llist.push(2)  \n",
    "  \n",
    "print (\"Created Linked List: \") \n",
    "llist.printList()  \n",
    "llist.deleteNode(1)  \n",
    "print (\"\\nLinked List after Deletion of 1:\") \n",
    "llist.printList()"
   ]
  },
  {
   "cell_type": "code",
   "execution_count": 7,
   "metadata": {},
   "outputs": [
    {
     "name": "stdout",
     "output_type": "stream",
     "text": [
      "Created Linked List: \n",
      "8\n",
      "2\n",
      "3\n",
      "1\n",
      "7\n",
      "\n",
      "Linked List after Deletion at position 4: \n",
      "8\n",
      "2\n",
      "3\n",
      "1\n"
     ]
    }
   ],
   "source": [
    "### trying out delete by position\n",
    "llist = LinkedList() \n",
    "llist.push(7) \n",
    "llist.push(1) \n",
    "llist.push(3) \n",
    "llist.push(2) \n",
    "llist.push(8) \n",
    "  \n",
    "print(\"Created Linked List: \")\n",
    "llist.printList() \n",
    "llist.deleteNodeByPosition(4) \n",
    "print(\"\\nLinked List after Deletion at position 4: \")\n",
    "llist.printList() "
   ]
  },
  {
   "cell_type": "code",
   "execution_count": 13,
   "metadata": {},
   "outputs": [
    {
     "name": "stdout",
     "output_type": "stream",
     "text": [
      "5\n",
      "5\n"
     ]
    }
   ],
   "source": [
    "### try out node count\n",
    "llist = LinkedList() \n",
    "llist.push(7) \n",
    "llist.push(1) \n",
    "llist.push(3) \n",
    "llist.push(2) \n",
    "llist.push(8) \n",
    "print(llist.getCount())\n",
    "print(llist.getCountRec())"
   ]
  }
 ],
 "metadata": {
  "kernelspec": {
   "display_name": "ct",
   "language": "python",
   "name": "ct"
  },
  "language_info": {
   "codemirror_mode": {
    "name": "ipython",
    "version": 3
   },
   "file_extension": ".py",
   "mimetype": "text/x-python",
   "name": "python",
   "nbconvert_exporter": "python",
   "pygments_lexer": "ipython3",
   "version": "3.6.10"
  }
 },
 "nbformat": 4,
 "nbformat_minor": 4
}
