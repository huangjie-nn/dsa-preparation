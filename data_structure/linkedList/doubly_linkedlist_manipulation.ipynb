{
 "cells": [
  {
   "cell_type": "markdown",
   "metadata": {},
   "source": [
    "## Convert binary tree to circular linkedlist"
   ]
  },
  {
   "attachments": {
    "tree-to-list.png": {
     "image/png": "[encoded data removed]"
    }
   },
   "cell_type": "markdown",
   "metadata": {},
   "source": [
    "![tree-to-list.png](attachment:tree-to-list.png)"
   ]
  },
  {
   "cell_type": "markdown",
   "metadata": {},
   "source": [
    "Side note\n",
    "\n",
    "is None is generally interchangable with == None \n",
    "\n",
    "is None is ~ 50% faster than ==None"
   ]
  },
  {
   "cell_type": "code",
   "execution_count": 37,
   "metadata": {},
   "outputs": [],
   "source": [
    "class Node:\n",
    "    def __init__(self, data):\n",
    "        self.data = data\n",
    "        self.left = self.right = None\n",
    "\n",
    "def concatenate(leftList, rightList):\n",
    "    \"\"\"Concatenating two linkedlist\n",
    "    \n",
    "    Args:\n",
    "        left (Node): head node of the left list\n",
    "        right (Node): head node of the right list\n",
    "    \n",
    "    Returns:\n",
    "        Node: head node of the concatenated list\n",
    "    \n",
    "    Raises:\n",
    "    \"\"\"\n",
    "    if (leftList is None): \n",
    "        return rightList  \n",
    "    if (rightList is None):  \n",
    "        return leftList  \n",
    "  \n",
    "    leftLast = leftList.left  \n",
    "   \n",
    "    rightLast = rightList.left  \n",
    "   \n",
    "    leftLast.right = rightList  \n",
    "    rightList.left = leftLast  \n",
    "   \n",
    "    leftList.left = rightLast  \n",
    "    \n",
    "    rightLast.right = leftList  \n",
    "  \n",
    "    return leftList\n",
    "\n",
    "def binary_tree_to_dll(root):\n",
    "    \"\"\"Converting binary tree to dll\n",
    "    \n",
    "    Args:\n",
    "        root (Node): root node of the current binary tree\n",
    "        \n",
    "    Returns:\n",
    "        (Node): head node of the converted dll\n",
    "        \n",
    "    Raises:\n",
    "    \"\"\"\n",
    "    if (root is None):  \n",
    "        return None\n",
    " \n",
    "    left = binary_tree_to_dll(root.left)  \n",
    "    right = binary_tree_to_dll(root.right)  \n",
    "    \n",
    "    root.left = root.right = root  \n",
    "  \n",
    "    return concatenate(concatenate(left,  \n",
    "                            root), right)\n",
    "\n",
    "def print_list(head):\n",
    "    curr = head\n",
    "    first = 1\n",
    "    while curr != head or first:\n",
    "        print(curr.data)\n",
    "        curr = curr.right\n",
    "        first = 0\n",
    "    \n",
    "    "
   ]
  },
  {
   "cell_type": "code",
   "execution_count": 36,
   "metadata": {},
   "outputs": [
    {
     "name": "stdout",
     "output_type": "stream",
     "text": [
      "25\n",
      "12\n",
      "30\n",
      "10\n",
      "36\n",
      "15\n"
     ]
    }
   ],
   "source": [
    "root = Node(10)  \n",
    "root.left = Node(12)  \n",
    "root.right = Node(15)  \n",
    "root.left.left = Node(25)  \n",
    "root.left.right = Node(30)  \n",
    "root.right.left = Node(36)  \n",
    "\n",
    "head = binary_tree_to_dll(root)  \n",
    "print_list(head)  "
   ]
  },
  {
   "cell_type": "markdown",
   "metadata": {},
   "source": [
    "## merge sort a doubly linkedlist\n",
    "\n",
    "pretty straight forward as the one with singly linkedlist"
   ]
  },
  {
   "cell_type": "code",
   "execution_count": 42,
   "metadata": {},
   "outputs": [],
   "source": [
    "class Node:\n",
    "    def __init__(self, data):\n",
    "        self.data = data\n",
    "        self.prev = self.next = None\n",
    "        \n",
    "class DoublyLinkedList:\n",
    "    def __init__(self):\n",
    "        self.head = None\n",
    "        \n",
    "    def push(self,data):\n",
    "        new_node = Node(data)\n",
    "        new_node.next = self.head\n",
    "        \n",
    "        new_node.prev = None\n",
    "        if new_node.next is not None:\n",
    "            new_node.next.prev = new_node\n",
    "        self.head = new_node\n",
    "        \n",
    "    def sort(self, head):\n",
    "        if head is None or head.next is None:\n",
    "            return head\n",
    "        \n",
    "        second = self.getMiddle(head)\n",
    "        head = self.sort(head)\n",
    "        second = self.sort(second)\n",
    "        return self.mergeTwoList(head, second)\n",
    "            \n",
    "        \n",
    "        \n",
    "    def mergeTwoList(self, left, right):\n",
    "        if left is None:\n",
    "            return right \n",
    "        if right is None:\n",
    "            return left\n",
    "        \n",
    "        if left.data <= right.data:\n",
    "            left.next = self.mergeTwoList(left.next, right)\n",
    "            left.next.prev = left\n",
    "            left.prev = None\n",
    "            return left\n",
    "        else:\n",
    "            right.next = self.mergeTwoList(left, right.next)\n",
    "            right.next.prev = right\n",
    "            right.prev = None\n",
    "            return right\n",
    "    \n",
    "    def getMiddle(self, head):\n",
    "        if head is None or head.next is None:\n",
    "            return head\n",
    "        \n",
    "        fast = slow = head\n",
    "        while fast.next is not None and fast.next.next is not None:\n",
    "            fast = fast.next.next\n",
    "            slow = slow.next\n",
    "            \n",
    "        second = slow.next\n",
    "        slow.next = None\n",
    "        return second\n",
    "        \n",
    "    def printList(self, node): \n",
    "        temp = node \n",
    "        print(\"Forward Traversal using next poitner\")\n",
    "        while(node is not None): \n",
    "            print(node.data), \n",
    "            temp = node \n",
    "            node = node.next\n",
    "        print(\"\\nBackward Traversal using prev pointer\")\n",
    "        while(temp): \n",
    "            print(temp.data), \n",
    "            temp = temp.prev "
   ]
  },
  {
   "cell_type": "code",
   "execution_count": 44,
   "metadata": {},
   "outputs": [
    {
     "name": "stdout",
     "output_type": "stream",
     "text": [
      "Linked List after sorting\n",
      "Forward Traversal using next poitner\n",
      "3\n",
      "4\n",
      "5\n",
      "10\n",
      "20\n",
      "30\n",
      "\n",
      "Backward Traversal using prev pointer\n",
      "30\n",
      "20\n",
      "10\n",
      "5\n",
      "4\n",
      "3\n"
     ]
    }
   ],
   "source": [
    "dll = DoublyLinkedList() \n",
    "dll.push(5) \n",
    "dll.push(20); \n",
    "dll.push(4); \n",
    "dll.push(3); \n",
    "dll.push(30) \n",
    "dll.push(10); \n",
    "dll.head = dll.sort(dll.head)    \n",
    "print(\"Linked List after sorting\")\n",
    "dll.printList(dll.head) "
   ]
  }
 ],
 "metadata": {
  "kernelspec": {
   "display_name": "ct",
   "language": "python",
   "name": "ct"
  },
  "language_info": {
   "codemirror_mode": {
    "name": "ipython",
    "version": 3
   },
   "file_extension": ".py",
   "mimetype": "text/x-python",
   "name": "python",
   "nbconvert_exporter": "python",
   "pygments_lexer": "ipython3",
   "version": "3.6.10"
  }
 },
 "nbformat": 4,
 "nbformat_minor": 4
}
