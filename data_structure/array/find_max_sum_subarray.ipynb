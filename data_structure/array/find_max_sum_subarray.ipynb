{
 "cells": [
  {
   "cell_type": "markdown",
   "metadata": {},
   "source": [
    "## Largest sum contiguous subarray"
   ]
  },
  {
   "cell_type": "markdown",
   "metadata": {},
   "source": [
    "### Kadane's algorithm"
   ]
  },
  {
   "cell_type": "code",
   "execution_count": 8,
   "metadata": {},
   "outputs": [
    {
     "data": {
      "text/plain": [
       "(7, 2, 6)"
      ]
     },
     "execution_count": 8,
     "metadata": {},
     "output_type": "execute_result"
    }
   ],
   "source": [
    "def solution(arr):\n",
    "    max_ending_here = 0\n",
    "    max_so_far = 0\n",
    "    start = 0\n",
    "    end = 0\n",
    "    for i, val in enumerate(arr):\n",
    "        max_ending_here += val\n",
    "        \n",
    "        if max_ending_here < 0:\n",
    "            max_ending_here = 0\n",
    "            start = i+1\n",
    "            \n",
    "        elif max_so_far < max_ending_here:\n",
    "            max_so_far = max_ending_here\n",
    "            end = i\n",
    "    return max_so_far, start, end\n",
    "\n",
    "arr = [-2, -3, 4, -1, -2, 1, 5, -3] \n",
    "solution(arr)"
   ]
  },
  {
   "cell_type": "markdown",
   "metadata": {},
   "source": [
    "## Largest sum with no adjacent element"
   ]
  },
  {
   "cell_type": "markdown",
   "metadata": {},
   "source": [
    "incl = excl + a[i]\n",
    "\n",
    "excl = max(incl, excl) -> of last round\n"
   ]
  },
  {
   "cell_type": "code",
   "execution_count": 11,
   "metadata": {},
   "outputs": [
    {
     "data": {
      "text/plain": [
       "110"
      ]
     },
     "execution_count": 11,
     "metadata": {},
     "output_type": "execute_result"
    }
   ],
   "source": [
    "def solution(arr):\n",
    "    incl = arr[0]\n",
    "    excl = 0\n",
    "    for i in range(1, len(arr)):\n",
    "        new_excl = max(incl, excl)\n",
    "        incl = excl + arr[i]\n",
    "        excl = new_excl\n",
    "        \n",
    "    return max(incl, excl)\n",
    "\n",
    "arr = [5, 5, 10, 100, 10, 5] \n",
    "solution(arr)"
   ]
  }
 ],
 "metadata": {
  "kernelspec": {
   "display_name": "ct",
   "language": "python",
   "name": "ct"
  },
  "language_info": {
   "codemirror_mode": {
    "name": "ipython",
    "version": 3
   },
   "file_extension": ".py",
   "mimetype": "text/x-python",
   "name": "python",
   "nbconvert_exporter": "python",
   "pygments_lexer": "ipython3",
   "version": "3.6.10"
  }
 },
 "nbformat": 4,
 "nbformat_minor": 4
}
