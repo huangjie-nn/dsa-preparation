{
 "cells": [
  {
   "cell_type": "markdown",
   "metadata": {},
   "source": [
    "## Implement queue using array "
   ]
  },
  {
   "cell_type": "code",
   "execution_count": 6,
   "metadata": {},
   "outputs": [
    {
     "name": "stdout",
     "output_type": "stream",
     "text": [
      "10 being enqueued\n",
      "20 being enqueued\n",
      "30 being enqueued\n",
      "40 being enqueued\n",
      "10 being dequeued\n",
      "20\n",
      "40\n"
     ]
    }
   ],
   "source": [
    "class Queue:\n",
    "    def __init__(self, capacity):\n",
    "        self.size = self.front = 0\n",
    "        self.rear = capacity - 1\n",
    "        self.capacity = capacity \n",
    "        self.Q = [None] * capacity\n",
    "    \n",
    "    def isFull(self):\n",
    "        return self.size == self.capacity\n",
    "    \n",
    "    def isEmpty(self):\n",
    "        return self.size == 0\n",
    "    \n",
    "    def EnQueue(self, data):\n",
    "        if self.isFull():\n",
    "            print(f'Queue is full')\n",
    "            return\n",
    "        else:\n",
    "            self.rear = (self.rear + 1) % self.capacity\n",
    "            self.Q[self.rear] = data\n",
    "            self.size += 1\n",
    "            print(f'{data} being enqueued')\n",
    "            \n",
    "    def DeQueue(self):\n",
    "        if self.isEmpty():\n",
    "            print(f'queue is empty')\n",
    "            return\n",
    "        else:\n",
    "            temp = self.Q[self.front]\n",
    "            self.front = (self.front + 1) % self.capacity\n",
    "            self.size -= 1\n",
    "            print(f'{temp} being dequeued')\n",
    "            return temp\n",
    "        \n",
    "    def front_queue(self):\n",
    "        if self.isEmpty():\n",
    "            print(f'empty queue')\n",
    "            return\n",
    "        else:\n",
    "            print(self.Q[self.front])\n",
    "        \n",
    "    def rear_queue(self):\n",
    "        if self.isEmpty():\n",
    "            print(f'queue empty')\n",
    "            return\n",
    "        else:\n",
    "            print(self.Q[self.rear])\n",
    "        \n",
    "queue = Queue(30) \n",
    "queue.EnQueue(10) \n",
    "queue.EnQueue(20) \n",
    "queue.EnQueue(30) \n",
    "queue.EnQueue(40) \n",
    "queue.DeQueue() \n",
    "queue.front_queue() \n",
    "queue.rear_queue() "
   ]
  },
  {
   "cell_type": "markdown",
   "metadata": {},
   "source": [
    "## Implement queue using LinkedList"
   ]
  },
  {
   "cell_type": "code",
   "execution_count": 16,
   "metadata": {},
   "outputs": [
    {
     "name": "stdout",
     "output_type": "stream",
     "text": [
      "Queue Front 40\n",
      "Queue Rear 50\n"
     ]
    }
   ],
   "source": [
    "class Node:\n",
    "    def __init__(self, data):\n",
    "        self.data = data\n",
    "        self.next = None\n",
    "        \n",
    "class Queue:\n",
    "    def __init__(self):\n",
    "        self.front = self.rear = None\n",
    "        \n",
    "    def isEmpty(self):\n",
    "        return self.front == None\n",
    "        \n",
    "    def EnQueue(self, data):\n",
    "        node = Node(data)\n",
    "        if self.rear == None:\n",
    "            self.front = self.rear = node\n",
    "            return \n",
    "        self.rear.next = node\n",
    "        self.rear = node\n",
    "        \n",
    "    def DeQueue(self):\n",
    "        if self.isEmpty():\n",
    "            print(f'queue is empty')\n",
    "            return \n",
    "        temp = self.front \n",
    "        self.front = temp.next\n",
    "        \n",
    "        ### remember to check for this possibility\n",
    "        if self.front == None:\n",
    "            self.rear = None\n",
    "            \n",
    "            \n",
    "q = Queue() \n",
    "q.EnQueue(10) \n",
    "q.EnQueue(20) \n",
    "\n",
    "q.DeQueue() \n",
    "q.DeQueue() \n",
    "q.EnQueue(30) \n",
    "q.EnQueue(40) \n",
    "q.EnQueue(50)  \n",
    "q.DeQueue()    \n",
    "print(\"Queue Front \" + str(q.front.data)) \n",
    "print(\"Queue Rear \" + str(q.rear.data))"
   ]
  },
  {
   "cell_type": "markdown",
   "metadata": {},
   "source": [
    "## Implement queue using stack"
   ]
  },
  {
   "cell_type": "code",
   "execution_count": 17,
   "metadata": {},
   "outputs": [
    {
     "name": "stdout",
     "output_type": "stream",
     "text": [
      "1\n",
      "2\n",
      "3\n"
     ]
    }
   ],
   "source": [
    "class Queue:\n",
    "    def __init__(self):\n",
    "        self.s = []\n",
    "        \n",
    "    def enQueue(self,data):\n",
    "        self.s.append(data)\n",
    "        \n",
    "    def deQueue(self):\n",
    "        if len(self.s) <= 0:\n",
    "            print(f'stack is empty')\n",
    "            return\n",
    "        \n",
    "        temp = self.s[-1]\n",
    "        self.s.pop()\n",
    "        \n",
    "        if len(self.s) <= 0:\n",
    "            return temp\n",
    "    \n",
    "        item = self.deQueue()\n",
    "        self.s.append(temp)\n",
    "        return item\n",
    "\n",
    "q = Queue() \n",
    "q.enQueue(1) \n",
    "q.enQueue(2) \n",
    "q.enQueue(3) \n",
    "\n",
    "print(q.deQueue()) \n",
    "print(q.deQueue()) \n",
    "print(q.deQueue())"
   ]
  }
 ],
 "metadata": {
  "kernelspec": {
   "display_name": "ct",
   "language": "python",
   "name": "ct"
  },
  "language_info": {
   "codemirror_mode": {
    "name": "ipython",
    "version": 3
   },
   "file_extension": ".py",
   "mimetype": "text/x-python",
   "name": "python",
   "nbconvert_exporter": "python",
   "pygments_lexer": "ipython3",
   "version": "3.6.10"
  }
 },
 "nbformat": 4,
 "nbformat_minor": 4
}
