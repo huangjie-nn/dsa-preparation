{
 "cells": [
  {
   "cell_type": "markdown",
   "metadata": {},
   "source": [
    "## Deque python support\n",
    "\n",
    "* Deque stands for double ended queues, which allows insert and delete at both ends\n"
   ]
  },
  {
   "cell_type": "code",
   "execution_count": 20,
   "metadata": {},
   "outputs": [
    {
     "name": "stdout",
     "output_type": "stream",
     "text": [
      "deque([5, 4, 6])\n",
      "deque([4])\n",
      "3\n",
      "deque([1, 10, 2, 3, 4, 5, 6, 7, 3])\n",
      "2\n",
      "deque([1, 10, 2, 4, 5, 6, 7, 3])\n",
      "deque([1, 10, 2, 4, 5, 6, 7, 3, 99, 99, 99])\n",
      "deque([-99, -99, -99, 1, 10, 2, 4, 5, 6, 7, 3, 99, 99, 99])\n",
      "deque([99, 99, 99, 3, 7, 6, 5, 4, 2, 10, 1, -99, -99, -99])\n",
      "deque([3, 7, 6, 5, 4, 2, 10, 1, -99, -99, -99, 99, 99, 99])\n"
     ]
    }
   ],
   "source": [
    "from collections import deque\n",
    "\n",
    "q = deque()\n",
    "\n",
    "# append, appendleft, pop, popleft\n",
    "q.append(4)\n",
    "q.appendleft(5)\n",
    "q.append(6)\n",
    "print(q)\n",
    "q.pop()\n",
    "q.popleft()\n",
    "print(q)\n",
    "\n",
    "# find index of value from beg to end\n",
    "q = deque([1,2,3,4,5,6,7, 3])\n",
    "print(q.index(4, 0, 7))\n",
    "\n",
    "# insert at index the value\n",
    "q.insert(1, 10)\n",
    "print(q)\n",
    "\n",
    "# count the occurance \n",
    "print(q.count(3))\n",
    "\n",
    "# remove the first occurance \n",
    "q.remove(3)\n",
    "print(q)\n",
    "\n",
    "# extend, extendleft\n",
    "q.extend([99,99,99])\n",
    "print(q)\n",
    "q.extendleft([-99,-99,-99])\n",
    "print(q)\n",
    "\n",
    "# reverse the order\n",
    "q.reverse()\n",
    "print(q)\n",
    "\n",
    "# rotate the element, negative means rotate to left, \n",
    "q.rotate(-3)\n",
    "print(q)"
   ]
  },
  {
   "cell_type": "markdown",
   "metadata": {},
   "source": [
    "## Implement Deque using circular array"
   ]
  },
  {
   "cell_type": "code",
   "execution_count": 42,
   "metadata": {},
   "outputs": [
    {
     "name": "stdout",
     "output_type": "stream",
     "text": [
      "10\n",
      "5\n",
      "15\n",
      "5\n"
     ]
    },
    {
     "data": {
      "text/plain": [
       "5"
      ]
     },
     "execution_count": 42,
     "metadata": {},
     "output_type": "execute_result"
    }
   ],
   "source": [
    "class DeQue:\n",
    "    def __init__(self, size):\n",
    "        self.size = size\n",
    "        self.arr = [None] * size\n",
    "        self.front = -1\n",
    "        self.rear = 0\n",
    "        \n",
    "    def isFull(self):\n",
    "        return (self.front == 0 and self.rear == self.size -1)or (self.front == self.rear + 1)\n",
    "        \n",
    "    def isEmpty(self):\n",
    "        return self.front == -1\n",
    "    \n",
    "    def insertFront(self, data):\n",
    "        if self.isFull():\n",
    "            print(f'deque full')\n",
    "            return\n",
    "        \n",
    "        if self.front == -1:\n",
    "            self.front = self.rear = 0\n",
    "        \n",
    "        elif self.front == 0:\n",
    "            self.front = self.size -1\n",
    "        else:\n",
    "            self.front -= 1\n",
    "            \n",
    "        self.arr[self.front] = data\n",
    "        \n",
    "    def insertRear(self,data):\n",
    "        if self.isFull():\n",
    "            print(f'deque full')\n",
    "            return \n",
    "        if self.front == -1:\n",
    "            self.front = self.rear = 0\n",
    "        elif self.rear == self.size -1:\n",
    "            self.rear = 0\n",
    "        else:\n",
    "            self.rear += 1\n",
    "        \n",
    "        self.arr[self.rear] = data\n",
    "        \n",
    "    def deleteFront(self):\n",
    "        if self.isEmpty():\n",
    "            print(f'deque empty')\n",
    "            return\n",
    "        \n",
    "        if self.front == self.rear:\n",
    "            self.front = self.rear = -1\n",
    "        \n",
    "        elif self.front == self.size -1:\n",
    "            self.front = 0\n",
    "        else: self.front += 1\n",
    "        \n",
    "    def deleteRear(self):\n",
    "        if self.isEmpty():\n",
    "            print(f'deque is empty')\n",
    "            return\n",
    "        \n",
    "        if self.front == self.rear:\n",
    "            self.front = self.rear = -1\n",
    "            \n",
    "        elif self.rear == 0:\n",
    "            self.rear = self.size -1\n",
    "        else:\n",
    "            self.rear -= 1\n",
    "            \n",
    "    def getFront(self):\n",
    "        if self.isEmpty():\n",
    "            print(f'deque empty')\n",
    "            return\n",
    "        print(self.arr[self.front])\n",
    "        return self.arr[self.front]\n",
    "    \n",
    "    def getRear(self):\n",
    "        if self.isEmpty():\n",
    "            print(f'deque empty')\n",
    "            return\n",
    "        print(self.arr[self.rear])\n",
    "        return self.arr[self.rear]\n",
    "    \n",
    "    def printDeQue(self):\n",
    "        print(self.arr)\n",
    "    \n",
    "q = DeQue(5)\n",
    "q.insertRear(5)\n",
    "q.insertRear(10)\n",
    "q.getRear()\n",
    "q.deleteRear()\n",
    "q.getRear()\n",
    "q.insertFront(15)\n",
    "q.getFront()\n",
    "q.deleteFront()\n",
    "q.getFront()\n",
    "\n",
    "        \n",
    "        "
   ]
  },
  {
   "cell_type": "code",
   "execution_count": null,
   "metadata": {},
   "outputs": [],
   "source": []
  }
 ],
 "metadata": {
  "kernelspec": {
   "display_name": "ct",
   "language": "python",
   "name": "ct"
  },
  "language_info": {
   "codemirror_mode": {
    "name": "ipython",
    "version": 3
   },
   "file_extension": ".py",
   "mimetype": "text/x-python",
   "name": "python",
   "nbconvert_exporter": "python",
   "pygments_lexer": "ipython3",
   "version": "3.6.10"
  }
 },
 "nbformat": 4,
 "nbformat_minor": 4
}
