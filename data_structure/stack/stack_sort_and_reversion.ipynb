{
 "cells": [
  {
   "cell_type": "markdown",
   "metadata": {},
   "source": [
    "## Reverse stack using recursion\n",
    "\n",
    "The idea of the solution is to hold all values in Function Call Stack until the stack becomes empty. When the stack becomes empty, insert all held items one by one at the bottom of the stack"
   ]
  },
  {
   "cell_type": "code",
   "execution_count": 10,
   "metadata": {},
   "outputs": [],
   "source": [
    "def createStack():\n",
    "    stack = []\n",
    "    return stack\n",
    "\n",
    "def isEmpty(stack):\n",
    "    return len(stack) == 0\n",
    "\n",
    "def push(stack, item):\n",
    "    stack.append(item)\n",
    "    \n",
    "def pop(stack):\n",
    "    if isEmpty(stack):\n",
    "        raise ValueError('empty stack')\n",
    "    return stack.pop()\n",
    "\n",
    "def sortedInsert(stack, item):\n",
    "    if isEmpty(stack) or item > stack[-1]:\n",
    "        push(stack, item)\n",
    "    else:\n",
    "        temp = pop(stack)\n",
    "        sortedInsert(stack, item)\n",
    "        push(stack, temp)\n",
    "        \n",
    "def sortStack(stack):\n",
    "    if not isEmpty(stack):\n",
    "        temp = pop(stack)\n",
    "        sortStack(stack)\n",
    "        sortedInsert(stack, temp)\n",
    "\n",
    "def insertAtBottom(stack, item):\n",
    "    if isEmpty(stack):\n",
    "        push(stack, item)\n",
    "    else:\n",
    "        temp = pop(stack)\n",
    "        insertAtBottom(stack, item)\n",
    "        push(stack, temp)\n",
    "\n",
    "def reverse(stack):\n",
    "    if not isEmpty(stack):\n",
    "        temp = pop(stack)\n",
    "        reverse(stack)\n",
    "        insertAtBottom(stack, temp)"
   ]
  },
  {
   "cell_type": "code",
   "execution_count": 9,
   "metadata": {},
   "outputs": [
    {
     "name": "stdout",
     "output_type": "stream",
     "text": [
      "Original Stack \n",
      "['4', '3', '2', '1']\n",
      "Reversed Stack \n",
      "['1', '2', '3', '4']\n"
     ]
    }
   ],
   "source": [
    "stack = createStack() \n",
    "push( stack, str(4) ) \n",
    "push( stack, str(3) ) \n",
    "push( stack, str(2) ) \n",
    "push( stack, str(1) ) \n",
    "print(\"Original Stack \") \n",
    "print(stack) \n",
    "  \n",
    "reverse(stack) \n",
    "  \n",
    "print(\"Reversed Stack \") \n",
    "print(stack) "
   ]
  },
  {
   "cell_type": "markdown",
   "metadata": {},
   "source": [
    "## Sort stack using recursion"
   ]
  },
  {
   "cell_type": "markdown",
   "metadata": {},
   "source": [
    "Can be seen as a variant of the above problem, sharing the same template. \n",
    "\n",
    "Implementation is above"
   ]
  },
  {
   "cell_type": "code",
   "execution_count": 12,
   "metadata": {},
   "outputs": [
    {
     "name": "stdout",
     "output_type": "stream",
     "text": [
      "Stack elements before sorting: \n",
      "[30, -5, 18, 14, -3]\n",
      "\n",
      "Stack elements after sorting: \n",
      "[-5, -3, 14, 18, 30]\n"
     ]
    }
   ],
   "source": [
    "s = [ ] \n",
    "s.append(30) \n",
    "s.append(-5) \n",
    "s.append(18) \n",
    "s.append(14) \n",
    "s.append(-3) \n",
    "\n",
    "print(\"Stack elements before sorting: \") \n",
    "print(s) \n",
    "\n",
    "sortStack(s) \n",
    "\n",
    "print(\"\\nStack elements after sorting: \") \n",
    "print(s)"
   ]
  }
 ],
 "metadata": {
  "kernelspec": {
   "display_name": "ct",
   "language": "python",
   "name": "ct"
  },
  "language_info": {
   "codemirror_mode": {
    "name": "ipython",
    "version": 3
   },
   "file_extension": ".py",
   "mimetype": "text/x-python",
   "name": "python",
   "nbconvert_exporter": "python",
   "pygments_lexer": "ipython3",
   "version": "3.6.10"
  }
 },
 "nbformat": 4,
 "nbformat_minor": 4
}
