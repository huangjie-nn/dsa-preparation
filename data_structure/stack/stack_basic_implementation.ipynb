{
 "cells": [
  {
   "cell_type": "markdown",
   "metadata": {},
   "source": [
    "## Stack "
   ]
  },
  {
   "cell_type": "markdown",
   "metadata": {},
   "source": [
    "### implement stack using array"
   ]
  },
  {
   "cell_type": "code",
   "execution_count": 16,
   "metadata": {},
   "outputs": [],
   "source": [
    "class Stack:\n",
    "    def __init__(self):\n",
    "        self.stack = []\n",
    "        \n",
    "    def push(self, data):\n",
    "        self.stack.append(data)\n",
    "        print(f'{data} being pushed into stack')\n",
    "        \n",
    "    def pop(self):\n",
    "        if len(self.stack) == 0:\n",
    "            raise ValueException(\"stack empty\")\n",
    "        print(f'{self.stack[len(self.stack)-1]} being poped')\n",
    "        self.stack.pop()\n",
    "    \n",
    "    def peek(self):\n",
    "        if len(self.stack) == 0:\n",
    "            raise ValueException(\"stack empty\")\n",
    "        return self.stack[len(self.stack) -1]\n",
    "    \n",
    "    def isEmpty(self):\n",
    "        return True if len(self.stack) == 0 else False\n",
    "    \n",
    "    def __str__(self):\n",
    "        return str([i for i in self.stack])"
   ]
  },
  {
   "cell_type": "code",
   "execution_count": 18,
   "metadata": {},
   "outputs": [
    {
     "name": "stdout",
     "output_type": "stream",
     "text": [
      "10 being pushed into stack\n",
      "20 being pushed into stack\n",
      "30 being pushed into stack\n",
      "30 being poped\n",
      "[10, 20]\n"
     ]
    }
   ],
   "source": [
    "stack = Stack()\n",
    "stack.push(10)\n",
    "stack.push(20)\n",
    "stack.push(30)\n",
    "stack.pop()\n",
    "print(stack)"
   ]
  },
  {
   "cell_type": "markdown",
   "metadata": {},
   "source": [
    "### implement stack using linkedlist"
   ]
  },
  {
   "cell_type": "code",
   "execution_count": 24,
   "metadata": {},
   "outputs": [],
   "source": [
    "class Node:\n",
    "    def __init__(self, data):\n",
    "        self.data = data\n",
    "        self.next = None\n",
    "class Stack:\n",
    "    def __init__(self):\n",
    "        self.root = None\n",
    "        \n",
    "    def push(self, data):\n",
    "        node = Node(data)\n",
    "        if self.root is None:\n",
    "            self.root = node\n",
    "            print(f'{data} pushed into the stack')\n",
    "            return\n",
    "        node.next = self.root\n",
    "        self.root = node\n",
    "        print(f'{data} pushed into the stack')\n",
    "        \n",
    "    def isEmpty(self):\n",
    "        if self.root is None:\n",
    "            return True\n",
    "        return False\n",
    "    \n",
    "    def pop(self):\n",
    "        if self.isEmpty():\n",
    "            raise ValueException('stack is empty')\n",
    "            \n",
    "        temp = self.root\n",
    "        self.root = self.root.next\n",
    "        return temp.data\n",
    "    \n",
    "    def peek(self):\n",
    "        if self.isEmpty():\n",
    "            raise ValueException('stack is empty')\n",
    "        \n",
    "        return self.root.data"
   ]
  },
  {
   "cell_type": "code",
   "execution_count": 25,
   "metadata": {},
   "outputs": [
    {
     "name": "stdout",
     "output_type": "stream",
     "text": [
      "10 pushed into the stack\n",
      "20 pushed into the stack\n",
      "30 pushed into the stack\n",
      " 30 popped from stack\n",
      "Top element is  20 \n"
     ]
    }
   ],
   "source": [
    "stack = Stack() \n",
    "stack.push(10)         \n",
    "stack.push(20) \n",
    "stack.push(30) \n",
    "  \n",
    "print(\"% d popped from stack\" %(stack.pop()))\n",
    "print(\"Top element is % d \" %(stack.peek()))"
   ]
  }
 ],
 "metadata": {
  "kernelspec": {
   "display_name": "ct",
   "language": "python",
   "name": "ct"
  },
  "language_info": {
   "codemirror_mode": {
    "name": "ipython",
    "version": 3
   },
   "file_extension": ".py",
   "mimetype": "text/x-python",
   "name": "python",
   "nbconvert_exporter": "python",
   "pygments_lexer": "ipython3",
   "version": "3.6.10"
  }
 },
 "nbformat": 4,
 "nbformat_minor": 4
}
