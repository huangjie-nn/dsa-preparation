{
 "cells": [
  {
   "cell_type": "markdown",
   "metadata": {},
   "source": [
    "## Reverse a string using stack"
   ]
  },
  {
   "cell_type": "code",
   "execution_count": 2,
   "metadata": {},
   "outputs": [
    {
     "data": {
      "text/plain": [
       "'olleH'"
      ]
     },
     "execution_count": 2,
     "metadata": {},
     "output_type": "execute_result"
    }
   ],
   "source": [
    "def reverse(string):\n",
    "    \n",
    "    n = len(string)\n",
    "    stack = []\n",
    "    for i in string:\n",
    "        stack.append(i)\n",
    "        \n",
    "    string = ''\n",
    "    for i in range(n):\n",
    "        string += stack.pop()\n",
    "        \n",
    "    return string\n",
    "\n",
    "input = \"Hello\"\n",
    "reverse(input)\n"
   ]
  },
  {
   "cell_type": "markdown",
   "metadata": {},
   "source": [
    "## Checking for balanced parentheses"
   ]
  },
  {
   "cell_type": "code",
   "execution_count": 4,
   "metadata": {},
   "outputs": [],
   "source": [
    "def checkBalanced(x):\n",
    "    stack = []\n",
    "    for char in x:\n",
    "        if char in [\"(\", \"[\", \"{\"]:\n",
    "            stack.append(char)\n",
    "            \n",
    "        else:\n",
    "            # since not opening then should be closing, \n",
    "            # which means stack shouldn't be empty\n",
    "            if not stack:\n",
    "                return False\n",
    "            curr = stack.pop()\n",
    "            if char == \")\":\n",
    "                if curr != \"(\":\n",
    "                    return False\n",
    "            elif char == \"}\":\n",
    "                if curr != \"{\":\n",
    "                    return False\n",
    "            elif char == \"]\":\n",
    "                if curr != \"[\":\n",
    "                    return False\n",
    "            \n",
    "    if stack:\n",
    "        return False\n",
    "    return True"
   ]
  },
  {
   "cell_type": "code",
   "execution_count": 5,
   "metadata": {},
   "outputs": [
    {
     "name": "stdout",
     "output_type": "stream",
     "text": [
      "Balanced\n"
     ]
    }
   ],
   "source": [
    "expr = \"{()}[]\";  \n",
    "if checkBalanced(expr) : \n",
    "    print(\"Balanced\");  \n",
    "else : \n",
    "    print(\"Not Balanced\");"
   ]
  },
  {
   "cell_type": "markdown",
   "metadata": {},
   "source": [
    "## Infix to Postfix"
   ]
  },
  {
   "cell_type": "markdown",
   "metadata": {},
   "source": [
    "**Infix**\n",
    "\n",
    "The expression of the form a op b. Operator is in between every pair of operands.\n",
    "\n",
    "**Postfix**\n",
    "\n",
    "The expression of the form a b op. Operator is followed for every pair of operands.\n",
    "\n",
    "**Algorithm**\n",
    "\n",
    "1. Scan the infix expression from left to right.\n",
    "\n",
    "2. If the scanned character is an operand, output it.\n",
    "\n",
    "\n",
    "3. If the scanned character is an ‘(‘, push it to the stack.\n",
    "\n",
    "4. If the scanned character is an ‘)’, pop the stack and and output it until a ‘(‘ is encountered, and discard both the parenthesis.\n",
    "\n",
    "5. Else,\n",
    " \n",
    "  5.1 If the precedence of the scanned operator is greater than the precedence of the operator in the stack(or the stack is empty or the stack contains a ‘(‘ ), push it.\n",
    "  \n",
    "  5.2 Else, Pop all the operators from the stack which are greater than or equal to in precedence than that of the scanned operator. After doing that Push the scanned operator to the stack. (If you encounter parenthesis while popping then stop there and push the scanned operator in the stack.)\n",
    "  \n",
    "\n",
    "6. Repeat steps 2-6 until infix expression is scanned.\n",
    "\n",
    "7. Print the output\n",
    "\n",
    "8. Pop and output from the stack until it is not empty."
   ]
  },
  {
   "cell_type": "code",
   "execution_count": 86,
   "metadata": {},
   "outputs": [
    {
     "name": "stdout",
     "output_type": "stream",
     "text": [
      "abcd^e-fgh*+^*+i-\n",
      "True\n"
     ]
    }
   ],
   "source": [
    "class Conversion:\n",
    "    \n",
    "    def __init__(self):\n",
    "        \n",
    "        self.top = -1\n",
    "        self.arr = [] \n",
    "        self.output = []\n",
    "        self.precedence = {\n",
    "            '+': 1,\n",
    "            '-': 1,\n",
    "            '*': 2,\n",
    "            '/':2,\n",
    "            '^':3\n",
    "        }\n",
    "        \n",
    "    def isEmpty(self):\n",
    "        return True if self.top == -1 else False\n",
    "    \n",
    "    def peek(self):\n",
    "        return self.arr[-1]\n",
    "    \n",
    "    def pop(self):\n",
    "        if not self.isEmpty():\n",
    "            \n",
    "            self.top -= 1\n",
    "            return self.arr.pop()\n",
    "        else: \n",
    "            return '$'\n",
    "\n",
    "    \n",
    "    def push(self, op):\n",
    "        self.top += 1\n",
    "        self.arr.append(op)\n",
    "        \n",
    "        \n",
    "    def isOperand(self, ch):\n",
    "        return ch.isalpha()\n",
    "    \n",
    "    def notGreater(self, i):\n",
    "        try:\n",
    "            curr = self.precedence[i]\n",
    "            in_stack = self.precedence[self.peek()]\n",
    "            return True if curr <= in_stack else False\n",
    "        except KeyError:\n",
    "            return False\n",
    "\n",
    "    \n",
    "    def infixToPostfix(self, exp):\n",
    "        for i in exp: \n",
    "            # step 2 - output it if is operand\n",
    "            if self.isOperand(i):\n",
    "                self.output.append(i)\n",
    "                \n",
    "            # step 3 - push it to stack if is '('\n",
    "            elif i == '(':\n",
    "                self.push(i)\n",
    "                \n",
    "            # step 4 - if it is )''\n",
    "            elif i == ')': \n",
    "                \n",
    "                # step pop and output the stack until meet '('\n",
    "                # stack not empty + not yet meet '('\n",
    "                while( (not self.isEmpty()) and self.peek() != '('): \n",
    "                    a = self.pop() \n",
    "                    self.output.append(a) \n",
    "                    \n",
    "                # stack not empty + meet '('\n",
    "                if (not self.isEmpty() and self.peek() != '('): \n",
    "                    return -1\n",
    "                \n",
    "                # stack empty\n",
    "                else: \n",
    "                    self.pop() \n",
    "\n",
    "            else: \n",
    "                # step 5 - meet operator\n",
    "                # stack not empty + current operator is no greater\n",
    "                while (not self.isEmpty()) and self.notGreater(i): \n",
    "                    self.output.append(self.pop()) \n",
    "                self.push(i) \n",
    "\n",
    "        while not self.isEmpty():\n",
    "             self.output.append(self.pop())\n",
    "            \n",
    "        print(''.join(self.output))\n",
    "        return ''.join(self.output)\n",
    "        \n",
    "exp = \"a+b*(c^d-e)^(f+g*h)-i\"\n",
    "obj = Conversion() \n",
    "result = obj.infixToPostfix(exp) \n",
    "true_answer = 'abcd^e-fgh*+^*+i-'\n",
    "print(result == true_answer)"
   ]
  }
 ],
 "metadata": {
  "kernelspec": {
   "display_name": "ct",
   "language": "python",
   "name": "ct"
  },
  "language_info": {
   "codemirror_mode": {
    "name": "ipython",
    "version": 3
   },
   "file_extension": ".py",
   "mimetype": "text/x-python",
   "name": "python",
   "nbconvert_exporter": "python",
   "pygments_lexer": "ipython3",
   "version": "3.6.10"
  }
 },
 "nbformat": 4,
 "nbformat_minor": 4
}
