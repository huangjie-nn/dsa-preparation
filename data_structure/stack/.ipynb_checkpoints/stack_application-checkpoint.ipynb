{
 "cells": [
  {
   "cell_type": "markdown",
   "metadata": {},
   "source": [
    "## Reverse a string using stack"
   ]
  },
  {
   "cell_type": "code",
   "execution_count": 2,
   "metadata": {},
   "outputs": [
    {
     "data": {
      "text/plain": [
       "'olleH'"
      ]
     },
     "execution_count": 2,
     "metadata": {},
     "output_type": "execute_result"
    }
   ],
   "source": [
    "def reverse(string):\n",
    "    \n",
    "    n = len(string)\n",
    "    stack = []\n",
    "    for i in string:\n",
    "        stack.append(i)\n",
    "        \n",
    "    string = ''\n",
    "    for i in range(n):\n",
    "        string += stack.pop()\n",
    "        \n",
    "    return string\n",
    "\n",
    "input = \"Hello\"\n",
    "reverse(input)\n"
   ]
  },
  {
   "cell_type": "markdown",
   "metadata": {},
   "source": [
    "## Checking for balanced parentheses"
   ]
  },
  {
   "cell_type": "code",
   "execution_count": 4,
   "metadata": {},
   "outputs": [],
   "source": [
    "def checkBalanced(x):\n",
    "    stack = []\n",
    "    for char in x:\n",
    "        if char in [\"(\", \"[\", \"{\"]:\n",
    "            stack.append(char)\n",
    "            \n",
    "        else:\n",
    "            # since not opening then should be closing, \n",
    "            # which means stack shouldn't be empty\n",
    "            if not stack:\n",
    "                return False\n",
    "            curr = stack.pop()\n",
    "            if char == \")\":\n",
    "                if curr != \"(\":\n",
    "                    return False\n",
    "            elif char == \"}\":\n",
    "                if curr != \"{\":\n",
    "                    return False\n",
    "            elif char == \"]\":\n",
    "                if curr != \"[\":\n",
    "                    return False\n",
    "            \n",
    "    if stack:\n",
    "        return False\n",
    "    return True"
   ]
  },
  {
   "cell_type": "code",
   "execution_count": 5,
   "metadata": {},
   "outputs": [
    {
     "name": "stdout",
     "output_type": "stream",
     "text": [
      "Balanced\n"
     ]
    }
   ],
   "source": [
    "expr = \"{()}[]\";  \n",
    "if checkBalanced(expr) : \n",
    "    print(\"Balanced\");  \n",
    "else : \n",
    "    print(\"Not Balanced\");"
   ]
  },
  {
   "cell_type": "markdown",
   "metadata": {},
   "source": [
    "## Infix to Postfix"
   ]
  },
  {
   "cell_type": "code",
   "execution_count": null,
   "metadata": {},
   "outputs": [],
   "source": []
  }
 ],
 "metadata": {
  "kernelspec": {
   "display_name": "ct",
   "language": "python",
   "name": "ct"
  },
  "language_info": {
   "codemirror_mode": {
    "name": "ipython",
    "version": 3
   },
   "file_extension": ".py",
   "mimetype": "text/x-python",
   "name": "python",
   "nbconvert_exporter": "python",
   "pygments_lexer": "ipython3",
   "version": "3.6.10"
  }
 },
 "nbformat": 4,
 "nbformat_minor": 4
}
