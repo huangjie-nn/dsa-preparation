{
 "cells": [
  {
   "cell_type": "markdown",
   "metadata": {},
   "source": [
    "## Reverse a string using stack"
   ]
  },
  {
   "cell_type": "code",
   "execution_count": 2,
   "metadata": {},
   "outputs": [
    {
     "data": {
      "text/plain": [
       "'olleH'"
      ]
     },
     "execution_count": 2,
     "metadata": {},
     "output_type": "execute_result"
    }
   ],
   "source": [
    "def reverse(string):\n",
    "    \n",
    "    n = len(string)\n",
    "    stack = []\n",
    "    for i in string:\n",
    "        stack.append(i)\n",
    "        \n",
    "    string = ''\n",
    "    for i in range(n):\n",
    "        string += stack.pop()\n",
    "        \n",
    "    return string\n",
    "\n",
    "input = \"Hello\"\n",
    "reverse(input)\n"
   ]
  },
  {
   "cell_type": "markdown",
   "metadata": {},
   "source": [
    "## Checking for balanced parentheses"
   ]
  },
  {
   "cell_type": "code",
   "execution_count": 4,
   "metadata": {},
   "outputs": [],
   "source": [
    "def checkBalanced(x):\n",
    "    stack = []\n",
    "    for char in x:\n",
    "        if char in [\"(\", \"[\", \"{\"]:\n",
    "            stack.append(char)\n",
    "            \n",
    "        else:\n",
    "            # since not opening then should be closing, \n",
    "            # which means stack shouldn't be empty\n",
    "            if not stack:\n",
    "                return False\n",
    "            curr = stack.pop()\n",
    "            if char == \")\":\n",
    "                if curr != \"(\":\n",
    "                    return False\n",
    "            elif char == \"}\":\n",
    "                if curr != \"{\":\n",
    "                    return False\n",
    "            elif char == \"]\":\n",
    "                if curr != \"[\":\n",
    "                    return False\n",
    "            \n",
    "    if stack:\n",
    "        return False\n",
    "    return True"
   ]
  },
  {
   "cell_type": "code",
   "execution_count": 5,
   "metadata": {},
   "outputs": [
    {
     "name": "stdout",
     "output_type": "stream",
     "text": [
      "Balanced\n"
     ]
    }
   ],
   "source": [
    "expr = \"{()}[]\";  \n",
    "if checkBalanced(expr) : \n",
    "    print(\"Balanced\");  \n",
    "else : \n",
    "    print(\"Not Balanced\");"
   ]
  },
  {
   "cell_type": "markdown",
   "metadata": {},
   "source": [
    "## Infix to Postfix"
   ]
  },
  {
   "cell_type": "markdown",
   "metadata": {},
   "source": [
    "**Infix**\n",
    "\n",
    "The expression of the form a op b. Operator is in between every pair of operands.\n",
    "\n",
    "**Postfix**\n",
    "\n",
    "The expression of the form a b op. Operator is followed for every pair of operands.\n",
    "\n",
    "**Algorithm**\n",
    "\n",
    "1. Scan the infix expression from left to right.\n",
    "\n",
    "2. If the scanned character is an operand, output it.\n",
    "\n",
    "\n",
    "3. If the scanned character is an ‘(‘, push it to the stack.\n",
    "\n",
    "4. If the scanned character is an ‘)’, pop the stack and and output it until a ‘(‘ is encountered, and discard both the parenthesis.\n",
    "\n",
    "5. Else,\n",
    " \n",
    "  5.1 If the precedence of the scanned operator is greater than the precedence of the operator in the stack(or the stack is empty or the stack contains a ‘(‘ ), push it.\n",
    "  \n",
    "  5.2 Else, Pop all the operators from the stack which are greater than or equal to in precedence than that of the scanned operator. After doing that Push the scanned operator to the stack. (If you encounter parenthesis while popping then stop there and push the scanned operator in the stack.)\n",
    "  \n",
    "\n",
    "6. Repeat steps 2-6 until infix expression is scanned.\n",
    "\n",
    "7. Print the output\n",
    "\n",
    "8. Pop and output from the stack until it is not empty."
   ]
  },
  {
   "cell_type": "code",
   "execution_count": 86,
   "metadata": {},
   "outputs": [
    {
     "name": "stdout",
     "output_type": "stream",
     "text": [
      "abcd^e-fgh*+^*+i-\n",
      "True\n"
     ]
    }
   ],
   "source": [
    "class Conversion:\n",
    "    \n",
    "    def __init__(self):\n",
    "        \n",
    "        self.top = -1\n",
    "        self.arr = [] \n",
    "        self.output = []\n",
    "        self.precedence = {\n",
    "            '+': 1,\n",
    "            '-': 1,\n",
    "            '*': 2,\n",
    "            '/':2,\n",
    "            '^':3\n",
    "        }\n",
    "        \n",
    "    def isEmpty(self):\n",
    "        return True if self.top == -1 else False\n",
    "    \n",
    "    def peek(self):\n",
    "        return self.arr[-1]\n",
    "    \n",
    "    def pop(self):\n",
    "        if not self.isEmpty():\n",
    "            \n",
    "            self.top -= 1\n",
    "            return self.arr.pop()\n",
    "        else: \n",
    "            return '$'\n",
    "\n",
    "    \n",
    "    def push(self, op):\n",
    "        self.top += 1\n",
    "        self.arr.append(op)\n",
    "        \n",
    "        \n",
    "    def isOperand(self, ch):\n",
    "        return ch.isalpha()\n",
    "    \n",
    "    def notGreater(self, i):\n",
    "        try:\n",
    "            curr = self.precedence[i]\n",
    "            in_stack = self.precedence[self.peek()]\n",
    "            return True if curr <= in_stack else False\n",
    "        except KeyError:\n",
    "            return False\n",
    "\n",
    "    \n",
    "    def infixToPostfix(self, exp):\n",
    "        for i in exp: \n",
    "            # step 2 - output it if is operand\n",
    "            if self.isOperand(i):\n",
    "                self.output.append(i)\n",
    "                \n",
    "            # step 3 - push it to stack if is '('\n",
    "            elif i == '(':\n",
    "                self.push(i)\n",
    "                \n",
    "            # step 4 - if it is )''\n",
    "            elif i == ')': \n",
    "                \n",
    "                # step pop and output the stack until meet '('\n",
    "                # stack not empty + not yet meet '('\n",
    "                while( (not self.isEmpty()) and self.peek() != '('): \n",
    "                    a = self.pop() \n",
    "                    self.output.append(a) \n",
    "                    \n",
    "                # stack not empty + meet '('\n",
    "                if (not self.isEmpty() and self.peek() != '('): \n",
    "                    return -1\n",
    "                \n",
    "                # stack empty\n",
    "                else: \n",
    "                    self.pop() \n",
    "\n",
    "            else: \n",
    "                # step 5 - meet operator\n",
    "                # stack not empty + current operator is no greater\n",
    "                while (not self.isEmpty()) and self.notGreater(i): \n",
    "                    self.output.append(self.pop()) \n",
    "                self.push(i) \n",
    "\n",
    "        while not self.isEmpty():\n",
    "             self.output.append(self.pop())\n",
    "            \n",
    "        print(''.join(self.output))\n",
    "        return ''.join(self.output)\n",
    "        \n",
    "exp = \"a+b*(c^d-e)^(f+g*h)-i\"\n",
    "obj = Conversion() \n",
    "result = obj.infixToPostfix(exp) \n",
    "true_answer = 'abcd^e-fgh*+^*+i-'\n",
    "print(result == true_answer)"
   ]
  },
  {
   "cell_type": "markdown",
   "metadata": {},
   "source": [
    "## How to evaluate postfix expression"
   ]
  },
  {
   "cell_type": "code",
   "execution_count": 117,
   "metadata": {},
   "outputs": [
    {
     "name": "stdout",
     "output_type": "stream",
     "text": [
      "757\n"
     ]
    }
   ],
   "source": [
    "class solution:\n",
    "    def __init__(self):\n",
    "        self.stack = []\n",
    "        self.top = -1 \n",
    "        \n",
    "    def pop(self):\n",
    "        if self.top == -1:\n",
    "            return \n",
    "        else:\n",
    "            self.top -= 1\n",
    "            self.stack.pop()\n",
    "            \n",
    "    def push(self, data):\n",
    "        self.stack.append(data)\n",
    "        self.top += 1\n",
    "        \n",
    "    def calcualte(self, ab):\n",
    "        for i in ab:\n",
    "            try:\n",
    "                self.push(int(i))\n",
    "            except ValueError:\n",
    "                val_1 = self.pop()\n",
    "                val_2 = self.pop()\n",
    "                func = {\n",
    "                    '+':val2 + val1, '-':val2-val1, '*':val2 * val1, '/':val2 / val1, '^':val2**val1\n",
    "                }\n",
    "                self.push(func.get(i))\n",
    "                \n",
    "        return self.pop()\n",
    "\n",
    "strconv = test.split(' ') \n",
    "obj = evalpostfix() \n",
    "print(obj.centralfunc(strconv))"
   ]
  },
  {
   "cell_type": "markdown",
   "metadata": {},
   "source": [
    "## Find the next greater item\n",
    "\n"
   ]
  },
  {
   "cell_type": "code",
   "execution_count": 4,
   "metadata": {},
   "outputs": [
    {
     "name": "stdout",
     "output_type": "stream",
     "text": [
      "11 -- 13\n",
      "13 -- 21\n",
      "3 -- -1\n",
      "21 -- -1\n"
     ]
    }
   ],
   "source": [
    "def createStack(): \n",
    "    stack = [] \n",
    "    return stack \n",
    "  \n",
    "def isEmpty(stack): \n",
    "    return len(stack) == 0\n",
    "  \n",
    "def push(stack, x): \n",
    "    stack.append(x) \n",
    "  \n",
    "def pop(stack): \n",
    "    if isEmpty(stack): \n",
    "        print(\"Error : stack underflow\") \n",
    "    else: \n",
    "        return stack.pop() \n",
    "  \n",
    "def printNGE(arr): \n",
    "    s = createStack() \n",
    "    element = 0\n",
    "    next = 0\n",
    "  \n",
    "    # push the first element to stack \n",
    "    push(s, arr[0]) \n",
    "  \n",
    "    # iterate for rest of the elements \n",
    "    for i in range(1, len(arr), 1): \n",
    "        next = arr[i] \n",
    "  \n",
    "        if isEmpty(s) == False: \n",
    "  \n",
    "            # if stack is not empty, then pop an element from stack \n",
    "            element = pop(s) \n",
    "  \n",
    "            '''If the popped element is smaller than next, then \n",
    "                a) print the pair \n",
    "                b) keep popping while elements are smaller and \n",
    "                   stack is not empty '''\n",
    "            while element < next : \n",
    "                print(str(element)+ \" -- \" + str(next)) \n",
    "                if isEmpty(s) == True : \n",
    "                    break\n",
    "                element = pop(s) \n",
    "  \n",
    "            '''If element is greater than next, then push \n",
    "               the element back '''\n",
    "            if  element > next: \n",
    "                push(s, element) \n",
    "  \n",
    "        '''push next to stack so that we can find \n",
    "           next greater for it '''\n",
    "        push(s, next) \n",
    "  \n",
    "    '''After iterating over the loop, the remaining \n",
    "       elements in stack do not have the next greater \n",
    "       element, so print -1 for them '''\n",
    "  \n",
    "    while isEmpty(s) == False: \n",
    "            element = pop(s) \n",
    "            next = -1\n",
    "            print(str(element) + \" -- \" + str(next)) \n",
    "  \n",
    "# Driver program to test above functions \n",
    "arr = [11, 13, 21, 3] \n",
    "printNGE(arr) "
   ]
  },
  {
   "cell_type": "markdown",
   "metadata": {},
   "source": [
    "## The stock span problem"
   ]
  },
  {
   "attachments": {
    "stock_span.png": {
     "image/png": "[encoded data removed]"
    }
   },
   "cell_type": "markdown",
   "metadata": {},
   "source": [
    "We see that S[i] on day i can be easily computed if we know the closest day preceding i, such that the price is greater than on that day than the price on the day i. If such a day exists, let’s call it h(i), otherwise, we define h(i) = -1.\n",
    "The span is now computed as S[i] = i – h(i). See the following diagram.\n",
    "\n",
    "![stock_span.png](attachment:stock_span.png)\n",
    "\n",
    "\n",
    "To implement this logic, we use a stack as an abstract data type to store the days i, h(i), h(h(i)), and so on. When we go from day i-1 to i, we pop the days when the price of the stock was less than or equal to price[i] and then push the value of day i back into the stack.\n"
   ]
  },
  {
   "cell_type": "code",
   "execution_count": 7,
   "metadata": {},
   "outputs": [
    {
     "data": {
      "text/plain": [
       "[1, 1, 2, 4, 5, 1]"
      ]
     },
     "execution_count": 7,
     "metadata": {},
     "output_type": "execute_result"
    }
   ],
   "source": [
    "def solution(arr):\n",
    "    \n",
    "    S = []\n",
    "    st = []\n",
    "    st.append(0)\n",
    "    n = len(arr)\n",
    "    \n",
    "    # first element span is always 1 because there is no element before it\n",
    "    S.append(1)\n",
    "    \n",
    "    for i in range(1, n, 1):\n",
    "        cur = arr[i]\n",
    "        while len(st) != 0 and arr[st[-1]] < cur:\n",
    "            st.pop()\n",
    "            \n",
    "        temp = i+1 if len(st) <= 0 else i-st[-1]\n",
    "        S.append(temp)\n",
    "        \n",
    "        st.append(i)\n",
    "    return S\n",
    "\n",
    "price = [10, 4, 5, 90, 120, 80] \n",
    "  \n",
    "\n",
    "solution(price) \n",
    "    "
   ]
  }
 ],
 "metadata": {
  "kernelspec": {
   "display_name": "ct",
   "language": "python",
   "name": "ct"
  },
  "language_info": {
   "codemirror_mode": {
    "name": "ipython",
    "version": 3
   },
   "file_extension": ".py",
   "mimetype": "text/x-python",
   "name": "python",
   "nbconvert_exporter": "python",
   "pygments_lexer": "ipython3",
   "version": "3.6.10"
  }
 },
 "nbformat": 4,
 "nbformat_minor": 4
}
