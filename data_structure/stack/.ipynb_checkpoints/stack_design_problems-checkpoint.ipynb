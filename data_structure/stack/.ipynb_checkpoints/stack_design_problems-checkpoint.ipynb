{
 "cells": [
  {
   "cell_type": "markdown",
   "metadata": {},
   "source": [
    "## Design a stack with operations on the middle element with O(1) time complexity\n",
    "\n",
    "use dll"
   ]
  },
  {
   "cell_type": "code",
   "execution_count": 19,
   "metadata": {},
   "outputs": [],
   "source": [
    "class Node:\n",
    "    def __init__(self, data):\n",
    "        self.data = data\n",
    "        self.prev = self.next = None\n",
    "        \n",
    "class Stack:\n",
    "    def __init__(self):\n",
    "        self.head = None\n",
    "        self.middle = None\n",
    "        self.cnt = 0\n",
    "        \n",
    "    def push(self, data):\n",
    "        node = Node(data)\n",
    "        if self.head is None:\n",
    "            self.head = node\n",
    "            self.middle = node\n",
    "            self.cnt = 1\n",
    "            return\n",
    "        node.next = self.head\n",
    "        node.next.prev = node\n",
    "        self.head = node\n",
    "        \n",
    "        self.cnt += 1\n",
    "        if self.cnt % 2 == 0:\n",
    "            self.middle = self.middle.prev\n",
    "\n",
    "        \n",
    "    def pop(self):\n",
    "        if self.head is None:\n",
    "            raise ValueException('stack is empty')\n",
    "        \n",
    "        temp = self.head\n",
    "        \n",
    "        if self.head.next is None:\n",
    "            self.head = None\n",
    "            self.middle = None\n",
    "            self.cnt = 0\n",
    "            return temp.data\n",
    "        \n",
    "        self.head = temp.next\n",
    "        if self.head is not None:\n",
    "            \n",
    "            temp.next.prev = None\n",
    "            \n",
    "\n",
    "        self.cnt -= 1\n",
    "        if self.cnt %2 != 0:\n",
    "            self.middle = self.middle.next\n",
    "        \n",
    "        return temp.data\n",
    "    \n",
    "    def printStack(self):\n",
    "        curr = self.head\n",
    "        while curr is not None:\n",
    "            print(curr.data)\n",
    "            curr = curr.next\n",
    "    \n",
    "    def findMiddle(self):\n",
    "        return self.middle.data\n",
    "    "
   ]
  },
  {
   "cell_type": "code",
   "execution_count": 21,
   "metadata": {},
   "outputs": [
    {
     "name": "stdout",
     "output_type": "stream",
     "text": [
      "middle item 11\n",
      "middle item 22\n",
      "middle item 22\n",
      "middle item 33\n",
      "middle item 33\n",
      "middle item 44\n",
      "middle item 44\n",
      "77\n",
      "66\n",
      "55\n",
      "44\n",
      "33\n",
      "22\n",
      "11\n",
      "middle item 44\n",
      "item pop 77\n",
      "middle item 44\n",
      "item pop 66\n",
      "middle item 33\n",
      "item pop 55\n",
      "middle item 33\n",
      "item pop 44\n",
      "middle item 22\n"
     ]
    }
   ],
   "source": [
    "stack = Stack()\n",
    "stack.push(11)\n",
    "print(f'middle item {stack.findMiddle()}')\n",
    "stack.push(22)\n",
    "print(f'middle item {stack.findMiddle()}')\n",
    "stack.push(33)\n",
    "print(f'middle item {stack.findMiddle()}')\n",
    "stack.push(44)\n",
    "print(f'middle item {stack.findMiddle()}')\n",
    "stack.push(55)\n",
    "print(f'middle item {stack.findMiddle()}')\n",
    "stack.push(66)\n",
    "print(f'middle item {stack.findMiddle()}')\n",
    "stack.push(77)\n",
    "print(f'middle item {stack.findMiddle()}')\n",
    "stack.printStack()\n",
    "print(f'middle item {stack.findMiddle()}')\n",
    "print(f'item pop {stack.pop()}')\n",
    "print(f'middle item {stack.findMiddle()}')\n",
    "print(f'item pop {stack.pop()}')\n",
    "print(f'middle item {stack.findMiddle()}')\n",
    "print(f'item pop {stack.pop()}')\n",
    "print(f'middle item {stack.findMiddle()}')\n",
    "print(f'item pop {stack.pop()}')\n",
    "print(f'middle item {stack.findMiddle()}')"
   ]
  },
  {
   "cell_type": "markdown",
   "metadata": {},
   "source": [
    "## Special stack with getMin() being done in O(1)"
   ]
  },
  {
   "cell_type": "markdown",
   "metadata": {},
   "source": [
    "requirement: not to use other data structure, array , list ...\n",
    "\n",
    "Push(int x) // inserts an element x to Special Stack\n",
    "\n",
    "1) push x to the first stack (the stack with actual elements)\n",
    "\n",
    "2) compare x with the top element of the second stack (the auxiliary stack). Let the top element be y.\n",
    "\n",
    "…..a) If x is smaller than y then push x to the auxiliary stack.\n",
    "\n",
    "…..b) If x is greater than y then push y to the auxiliary stack.\n",
    "\n",
    "int Pop() // removes an element from Special Stack and return the removed element\n",
    "\n",
    "1) pop the top element from the auxiliary stack.\n",
    "\n",
    "2) pop the top element from the actual stack and return it.\n",
    "\n",
    "int getMin() // returns the minimum element from Special Stack\n",
    "\n",
    "1) Return the top element of auxiliary stack.\n"
   ]
  }
 ],
 "metadata": {
  "kernelspec": {
   "display_name": "ct",
   "language": "python",
   "name": "ct"
  },
  "language_info": {
   "codemirror_mode": {
    "name": "ipython",
    "version": 3
   },
   "file_extension": ".py",
   "mimetype": "text/x-python",
   "name": "python",
   "nbconvert_exporter": "python",
   "pygments_lexer": "ipython3",
   "version": "3.6.10"
  }
 },
 "nbformat": 4,
 "nbformat_minor": 4
}
