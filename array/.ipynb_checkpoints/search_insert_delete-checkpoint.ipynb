{
 "cells": [
  {
   "cell_type": "markdown",
   "metadata": {},
   "source": [
    "### Search"
   ]
  },
  {
   "cell_type": "code",
   "execution_count": 8,
   "metadata": {},
   "outputs": [
    {
     "data": {
      "text/plain": [
       "5"
      ]
     },
     "execution_count": 8,
     "metadata": {},
     "output_type": "execute_result"
    }
   ],
   "source": [
    "def binarySearch(arr, l, h, key):\n",
    "    if l>h:\n",
    "        return -1\n",
    "    mid = int((l+h)/2)\n",
    "    \n",
    "    if arr[mid] == key:\n",
    "        return mid\n",
    "    if arr[mid] < key:\n",
    "        return binarySearch(arr, mid+1, h, key)\n",
    "    return binarySearch(arr, l, mid-1, key)\n",
    "\n",
    "arr = [5, 6, 7, 8, 9, 10] \n",
    "n = len(arr) \n",
    "key = 10\n",
    "binarySearch(arr, 0, n-1, key)\n",
    "  "
   ]
  },
  {
   "cell_type": "markdown",
   "metadata": {},
   "source": [
    "### Insert"
   ]
  },
  {
   "cell_type": "code",
   "execution_count": 12,
   "metadata": {},
   "outputs": [
    {
     "name": "stdout",
     "output_type": "stream",
     "text": [
      "[12, 16, 20, 26, 40, 50, 70, 0, 0, 0, 0, 0, 0, 0, 0, 0, 0, 0, 0, 0, 0, 0, 0, 0, 0, 0]\n"
     ]
    },
    {
     "data": {
      "text/plain": [
       "7"
      ]
     },
     "execution_count": 12,
     "metadata": {},
     "output_type": "execute_result"
    }
   ],
   "source": [
    "def insertSorted(arr, n, key, capacity):\n",
    "    if n>= capacity:\n",
    "        return n\n",
    "    \n",
    "    i = n-1\n",
    "    while i >= 0 and arr[i]>key:\n",
    "        arr[i+1] = arr[i]\n",
    "        i -= 1\n",
    "    arr[i+1] = key\n",
    "    print(arr)\n",
    "    return n+1\n",
    "\n",
    "arr = [12, 16, 20, 40, 50, 70] \n",
    "  \n",
    "for i in range(20): \n",
    "    arr.append(0) \n",
    "  \n",
    "capacity = len(arr) \n",
    "n = 6\n",
    "key = 26\n",
    "\n",
    "insertSorted(arr, n, key, capacity)"
   ]
  },
  {
   "cell_type": "markdown",
   "metadata": {},
   "source": [
    "### delete"
   ]
  },
  {
   "cell_type": "code",
   "execution_count": 15,
   "metadata": {},
   "outputs": [
    {
     "name": "stdout",
     "output_type": "stream",
     "text": [
      "[10, 20, 40, 50, None]\n"
     ]
    },
    {
     "data": {
      "text/plain": [
       "4"
      ]
     },
     "execution_count": 15,
     "metadata": {},
     "output_type": "execute_result"
    }
   ],
   "source": [
    "def deleteSorted(arr, n, key):\n",
    "    def binarySearch(arr, l, h, key):\n",
    "        if l>h:\n",
    "            return -1\n",
    "        mid = int((l+h)/2)\n",
    "        if arr[mid] == key:\n",
    "            return mid\n",
    "        if arr[mid]>key:\n",
    "            return binarySearch(arr, 0, mid-1, key)\n",
    "        return binarySearch(arr, mid+1, h, key)\n",
    "    \n",
    "    idx = binarySearch(arr, 0, n-1, key)\n",
    "    if idx == -1:\n",
    "        print(f'element not found')\n",
    "        return n-1\n",
    "    \n",
    "    for i in range(idx, n-1):\n",
    "        arr[i] = arr[i+1]\n",
    "    arr[n-1] = None\n",
    "    print(arr)\n",
    "    return n-1\n",
    "\n",
    "arr = [10, 20, 30, 40, 50 ] \n",
    "  \n",
    "n = len(arr) \n",
    "key = 30 \n",
    "deleteSorted(arr, n, key)"
   ]
  }
 ],
 "metadata": {
  "kernelspec": {
   "display_name": "ct",
   "language": "python",
   "name": "ct"
  },
  "language_info": {
   "codemirror_mode": {
    "name": "ipython",
    "version": 3
   },
   "file_extension": ".py",
   "mimetype": "text/x-python",
   "name": "python",
   "nbconvert_exporter": "python",
   "pygments_lexer": "ipython3",
   "version": "3.6.10"
  }
 },
 "nbformat": 4,
 "nbformat_minor": 4
}
