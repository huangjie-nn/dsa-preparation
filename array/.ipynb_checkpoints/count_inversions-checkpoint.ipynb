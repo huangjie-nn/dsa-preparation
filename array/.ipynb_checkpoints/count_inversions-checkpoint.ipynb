{
 "cells": [
  {
   "cell_type": "markdown",
   "metadata": {},
   "source": [
    "## Count inversions in an array\n",
    "\n",
    "inversions: i < j, a[i] > a[j]"
   ]
  },
  {
   "cell_type": "markdown",
   "metadata": {},
   "source": [
    "### brutal force \n",
    "\n",
    "O(n*n)"
   ]
  },
  {
   "cell_type": "code",
   "execution_count": 4,
   "metadata": {},
   "outputs": [
    {
     "data": {
      "text/plain": [
       "5"
      ]
     },
     "execution_count": 4,
     "metadata": {},
     "output_type": "execute_result"
    }
   ],
   "source": [
    "def solution(arr):\n",
    "    cnt = 0\n",
    "    for i in range(len(arr)):\n",
    "        for j in range(i+1, len(arr)):\n",
    "            if arr[i] > arr[j]:\n",
    "                cnt += 1\n",
    "    return cnt\n",
    "\n",
    "arr = [1, 20, 6, 4, 5] \n",
    "solution(arr)"
   ]
  },
  {
   "cell_type": "markdown",
   "metadata": {},
   "source": [
    "### using merge sort\n",
    "\n",
    "O(nlogn)"
   ]
  },
  {
   "cell_type": "code",
   "execution_count": 17,
   "metadata": {},
   "outputs": [
    {
     "data": {
      "text/plain": [
       "5"
      ]
     },
     "execution_count": 17,
     "metadata": {},
     "output_type": "execute_result"
    }
   ],
   "source": [
    "def mergeSort(ar, n): \n",
    "    temp_arr = [0]*n \n",
    "    \n",
    "    def _mergeSort(arr, temp_arr, left, right): \n",
    "        inv_count = 0\n",
    "        if left < right: \n",
    "            mid = (left + right)//2\n",
    "            inv_count += _mergeSort(arr, temp_arr, left, mid) \n",
    "            inv_count += _mergeSort(arr, temp_arr, mid + 1, right) \n",
    "            inv_count += merge(arr, temp_arr, left, mid, right) \n",
    "        return inv_count \n",
    "  \n",
    "    def merge(arr, temp_arr, left, mid, right): \n",
    "        i = left    \n",
    "        j = mid + 1 \n",
    "        k = left     \n",
    "        inv_count = 0\n",
    "        while i <= mid and j <= right: \n",
    "            if arr[i] <= arr[j]: \n",
    "                temp_arr[k] = arr[i] \n",
    "                k += 1\n",
    "                i += 1\n",
    "            else: \n",
    "                temp_arr[k] = arr[j] \n",
    "                inv_count += (mid-i + 1) \n",
    "                k += 1\n",
    "                j += 1\n",
    "        while i <= mid: \n",
    "            temp_arr[k] = arr[i] \n",
    "            k += 1\n",
    "            i += 1\n",
    "        while j <= right: \n",
    "            temp_arr[k] = arr[j] \n",
    "            k += 1\n",
    "            j += 1\n",
    "        for loop_var in range(left, right + 1): \n",
    "            arr[loop_var] = temp_arr[loop_var] \n",
    "\n",
    "        return inv_count \n",
    "    return _mergeSort(ar, temp_arr, 0, n-1) \n",
    "\n",
    "arr = [1, 20, 6, 4, 5] \n",
    "n = len(arr) \n",
    "mergeSort(arr, n)"
   ]
  },
  {
   "cell_type": "markdown",
   "metadata": {},
   "source": [
    "### merge two array and sort"
   ]
  },
  {
   "cell_type": "markdown",
   "metadata": {},
   "source": [
    "Two sorted array, one with size m + n containing only m element, another with size n. Merge the two array into the first one with order."
   ]
  },
  {
   "cell_type": "code",
   "execution_count": 46,
   "metadata": {},
   "outputs": [
    {
     "data": {
      "text/plain": [
       "[2, 5, 7, 8, 9, 13, 15, 20, 25]"
      ]
     },
     "execution_count": 46,
     "metadata": {},
     "output_type": "execute_result"
    }
   ],
   "source": [
    "def solution(m, n):\n",
    "    n_size = len(n)\n",
    "    m_size = len(m) - n_size\n",
    "    \n",
    "    def moveToEnd(mPlusN, size): \n",
    "        i = 0\n",
    "        j = size - 1\n",
    "        for i in range(size-1, -1, -1): \n",
    "            if (mPlusN[i] != NA): \n",
    "                mPlusN[j] = mPlusN[i] \n",
    "                j-=1\n",
    "        return mPlusN\n",
    "    \n",
    "    def merge(mPlusN, N, m, n): \n",
    "  \n",
    "        i = n   \n",
    "        j = 0  \n",
    "        k = 0  \n",
    "        while (k < (m+n)): \n",
    "            if ((i < (m+n) and mPlusN[i] <= N[j]) or (j == n)): \n",
    "                mPlusN[k] = mPlusN[i] \n",
    "                k+=1\n",
    "                i+=1\n",
    "            else:\n",
    "                mPlusN[k] = N[j] \n",
    "                k+=1\n",
    "                j+=1\n",
    "        return mPlusN\n",
    "              \n",
    "    moveToEnd(m, m_size + n_size)  \n",
    "    return merge(m, n, m_size, n_size)\n",
    "            \n",
    "        \n",
    "        \n",
    "\n",
    "NA = -1\n",
    "m = [2, 8, NA, NA, NA, 13, NA, 15, 20]\n",
    "n = [5, 7, 9, 25]\n",
    "solution(m, n)\n",
    "            \n",
    "                "
   ]
  }
 ],
 "metadata": {
  "kernelspec": {
   "display_name": "ct",
   "language": "python",
   "name": "ct"
  },
  "language_info": {
   "codemirror_mode": {
    "name": "ipython",
    "version": 3
   },
   "file_extension": ".py",
   "mimetype": "text/x-python",
   "name": "python",
   "nbconvert_exporter": "python",
   "pygments_lexer": "ipython3",
   "version": "3.6.10"
  }
 },
 "nbformat": 4,
 "nbformat_minor": 4
}
