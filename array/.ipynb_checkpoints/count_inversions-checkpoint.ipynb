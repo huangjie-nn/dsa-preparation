{
 "cells": [
  {
   "cell_type": "markdown",
   "metadata": {},
   "source": [
    "## Count inversions in an array\n",
    "\n",
    "inversions: i < j, a[i] > a[j]"
   ]
  },
  {
   "cell_type": "markdown",
   "metadata": {},
   "source": [
    "### brutal force \n",
    "\n",
    "O(n*n)"
   ]
  },
  {
   "cell_type": "code",
   "execution_count": 4,
   "metadata": {},
   "outputs": [
    {
     "data": {
      "text/plain": [
       "5"
      ]
     },
     "execution_count": 4,
     "metadata": {},
     "output_type": "execute_result"
    }
   ],
   "source": [
    "def solution(arr):\n",
    "    cnt = 0\n",
    "    for i in range(len(arr)):\n",
    "        for j in range(i+1, len(arr)):\n",
    "            if arr[i] > arr[j]:\n",
    "                cnt += 1\n",
    "    return cnt\n",
    "\n",
    "arr = [1, 20, 6, 4, 5] \n",
    "solution(arr)"
   ]
  },
  {
   "cell_type": "markdown",
   "metadata": {},
   "source": [
    "### using merge sort\n",
    "\n",
    "O(nlogn)"
   ]
  },
  {
   "cell_type": "code",
   "execution_count": 17,
   "metadata": {},
   "outputs": [
    {
     "data": {
      "text/plain": [
       "5"
      ]
     },
     "execution_count": 17,
     "metadata": {},
     "output_type": "execute_result"
    }
   ],
   "source": [
    "def mergeSort(ar, n): \n",
    "    temp_arr = [0]*n \n",
    "    \n",
    "    def _mergeSort(arr, temp_arr, left, right): \n",
    "        inv_count = 0\n",
    "        if left < right: \n",
    "            mid = (left + right)//2\n",
    "            inv_count += _mergeSort(arr, temp_arr, left, mid) \n",
    "            inv_count += _mergeSort(arr, temp_arr, mid + 1, right) \n",
    "            inv_count += merge(arr, temp_arr, left, mid, right) \n",
    "        return inv_count \n",
    "  \n",
    "    def merge(arr, temp_arr, left, mid, right): \n",
    "        i = left    \n",
    "        j = mid + 1 \n",
    "        k = left     \n",
    "        inv_count = 0\n",
    "        while i <= mid and j <= right: \n",
    "            if arr[i] <= arr[j]: \n",
    "                temp_arr[k] = arr[i] \n",
    "                k += 1\n",
    "                i += 1\n",
    "            else: \n",
    "                temp_arr[k] = arr[j] \n",
    "                inv_count += (mid-i + 1) \n",
    "                k += 1\n",
    "                j += 1\n",
    "        while i <= mid: \n",
    "            temp_arr[k] = arr[i] \n",
    "            k += 1\n",
    "            i += 1\n",
    "        while j <= right: \n",
    "            temp_arr[k] = arr[j] \n",
    "            k += 1\n",
    "            j += 1\n",
    "        for loop_var in range(left, right + 1): \n",
    "            arr[loop_var] = temp_arr[loop_var] \n",
    "\n",
    "        return inv_count \n",
    "    return _mergeSort(ar, temp_arr, 0, n-1) \n",
    "\n",
    "arr = [1, 20, 6, 4, 5] \n",
    "n = len(arr) \n",
    "mergeSort(arr, n)"
   ]
  },
  {
   "cell_type": "code",
   "execution_count": null,
   "metadata": {},
   "outputs": [],
   "source": []
  }
 ],
 "metadata": {
  "kernelspec": {
   "display_name": "ct",
   "language": "python",
   "name": "ct"
  },
  "language_info": {
   "codemirror_mode": {
    "name": "ipython",
    "version": 3
   },
   "file_extension": ".py",
   "mimetype": "text/x-python",
   "name": "python",
   "nbconvert_exporter": "python",
   "pygments_lexer": "ipython3",
   "version": "3.6.10"
  }
 },
 "nbformat": 4,
 "nbformat_minor": 4
}
