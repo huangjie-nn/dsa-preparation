{
 "cells": [
  {
   "cell_type": "markdown",
   "metadata": {},
   "source": [
    "## Find number of pairs in a pivoted sorted arr with sum X"
   ]
  },
  {
   "cell_type": "code",
   "execution_count": 14,
   "metadata": {},
   "outputs": [
    {
     "data": {
      "text/plain": [
       "2"
      ]
     },
     "execution_count": 14,
     "metadata": {},
     "output_type": "execute_result"
    }
   ],
   "source": [
    "def solution(arr, n, X):\n",
    "    \"\"\"\n",
    "    another way of finding pivot point\n",
    "    \"\"\"\n",
    "    for i in range(n):\n",
    "        if arr[i] > arr[i+1]:\n",
    "            break\n",
    "    \"\"\"\n",
    "    i is the pivot point, \n",
    "    the index with the largest value\n",
    "    \"\"\"\n",
    "    l = (i+1) %n\n",
    "    r = i\n",
    "    cnt = 0\n",
    "    \n",
    "    \"\"\"\n",
    "    looping thru until l and r meet\n",
    "    \"\"\"\n",
    "    while l != r:\n",
    "        if arr[l] + arr[r] == X:\n",
    "            cnt += 1\n",
    "        \n",
    "            \"\"\"\n",
    "            check if l and r meet\n",
    "            \"\"\"\n",
    "            if l == (r-1+n) %n:\n",
    "                return cnt\n",
    "            \n",
    "        if arr[l] + arr[r] <X:\n",
    "            l = (l+1)%n\n",
    "            \n",
    "        else:\n",
    "            r = (r-1+n)%n\n",
    "    return cnt\n",
    "\n",
    "arr = [11, 15, 6, 7, 9, 10] \n",
    "s = 16\n",
    "solution(arr, 6, s)"
   ]
  },
  {
   "cell_type": "markdown",
   "metadata": {},
   "source": [
    "## find pair with sum X in unsorted array"
   ]
  },
  {
   "cell_type": "markdown",
   "metadata": {},
   "source": [
    "### using hashmap"
   ]
  },
  {
   "cell_type": "code",
   "execution_count": 11,
   "metadata": {},
   "outputs": [
    {
     "data": {
      "text/plain": [
       "[(10, 6)]"
      ]
     },
     "execution_count": 11,
     "metadata": {},
     "output_type": "execute_result"
    }
   ],
   "source": [
    "def findPair(arr, X):\n",
    "    s = set()\n",
    "    result = []\n",
    "    for i in range(len(arr)):\n",
    "        temp = X - arr[i]\n",
    "        if temp in s:\n",
    "            result.append((arr[i], temp))\n",
    "        s.add(arr[i])\n",
    "    return result\n",
    "\n",
    "arr = [1, 4, 45, 6, 10] \n",
    "X = 16\n",
    "findPair(arr, X)\n"
   ]
  },
  {
   "cell_type": "markdown",
   "metadata": {},
   "source": [
    "## find leaders in arry\n",
    "Leader means the array item, which all the right hand side element is smaller than."
   ]
  },
  {
   "cell_type": "code",
   "execution_count": 6,
   "metadata": {},
   "outputs": [
    {
     "data": {
      "text/plain": [
       "[4, 6, 76]"
      ]
     },
     "execution_count": 6,
     "metadata": {},
     "output_type": "execute_result"
    }
   ],
   "source": [
    "def findLeader(arr):\n",
    "    result = []\n",
    "    max_from_right = arr[-1]\n",
    "    result.append(max_from_right)\n",
    "    for i in range(len(arr)-2, 0, -1):\n",
    "        if arr[i] >= max_from_right:\n",
    "            result.append(arr[i])\n",
    "            max_from_right = arr[i]\n",
    "    return result\n",
    "arr = [2,3,76,2,3,6, 4]\n",
    "findLeader(arr)"
   ]
  }
 ],
 "metadata": {
  "kernelspec": {
   "display_name": "ct",
   "language": "python",
   "name": "ct"
  },
  "language_info": {
   "codemirror_mode": {
    "name": "ipython",
    "version": 3
   },
   "file_extension": ".py",
   "mimetype": "text/x-python",
   "name": "python",
   "nbconvert_exporter": "python",
   "pygments_lexer": "ipython3",
   "version": "3.6.10"
  },
  "toc-autonumbering": true
 },
 "nbformat": 4,
 "nbformat_minor": 4
}
