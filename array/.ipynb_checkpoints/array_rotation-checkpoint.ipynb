{
 "cells": [
  {
   "cell_type": "markdown",
   "metadata": {
    "toc-hr-collapsed": true,
    "toc-nb-collapsed": true
   },
   "source": [
    "## rotate(ar[], d, n)rotates array[] of size n by d element\n"
   ]
  },
  {
   "cell_type": "markdown",
   "metadata": {},
   "source": [
    "### method 1 - using temp array\n",
    "time - O(n)\n",
    "\n",
    "space - O(d)"
   ]
  },
  {
   "cell_type": "code",
   "execution_count": 23,
   "metadata": {},
   "outputs": [
    {
     "data": {
      "text/plain": [
       "[3, 4, 5, 6, 7, 1, 2]"
      ]
     },
     "execution_count": 23,
     "metadata": {},
     "output_type": "execute_result"
    }
   ],
   "source": [
    "def rotate(ar, d, n):\n",
    "    temp = ar[:d]\n",
    "    for i in range(d, n):\n",
    "        ar[i-d] = ar[i]\n",
    "    ar[-d:] = temp\n",
    "    return ar\n",
    "\n",
    "input_ar = [1,2,3,4,5,6,7]\n",
    "input_d = 2\n",
    "input_n = 7\n",
    "rotate(input_ar, input_d, input_n)"
   ]
  },
  {
   "cell_type": "markdown",
   "metadata": {},
   "source": [
    "### method 2 - rotate one by one\n",
    "\n",
    "time - O(d x n)\n",
    "\n",
    "space - O(1)"
   ]
  },
  {
   "cell_type": "code",
   "execution_count": 29,
   "metadata": {},
   "outputs": [
    {
     "data": {
      "text/plain": [
       "[3, 4, 5, 6, 7, 1, 2]"
      ]
     },
     "execution_count": 29,
     "metadata": {},
     "output_type": "execute_result"
    }
   ],
   "source": [
    "def rotate(ar, d, n):\n",
    "    def rotate_by_one(arr, n):\n",
    "        temp = arr[0]\n",
    "        for i in range(1, n):\n",
    "            arr[i-1] = arr[i]\n",
    "        arr[n-1] = temp\n",
    "        return arr\n",
    "    for i in range(d):\n",
    "        ar = rotate_by_one(ar, n)\n",
    "    return ar\n",
    "\n",
    "input_ar = [1,2,3,4,5,6,7]\n",
    "input_d = 2\n",
    "input_n = 7\n",
    "rotate(input_ar, input_d, input_n)"
   ]
  },
  {
   "cell_type": "markdown",
   "metadata": {},
   "source": [
    "### method 3 - extension of method 2\n",
    "\n",
    "time - O(n)\n",
    "\n",
    "space - O(1)"
   ]
  },
  {
   "cell_type": "code",
   "execution_count": 31,
   "metadata": {},
   "outputs": [
    {
     "data": {
      "text/plain": [
       "[3, 4, 5, 6, 7, 1, 2]"
      ]
     },
     "execution_count": 31,
     "metadata": {},
     "output_type": "execute_result"
    }
   ],
   "source": [
    "def rotate(ar, d, n):\n",
    "    def find_gcd(a, b):\n",
    "        \"\"\"\n",
    "        find the greatest common divider\n",
    "        \"\"\"\n",
    "        if b == 0:\n",
    "            return a\n",
    "        return find_gcd(b, a%b)\n",
    "    \n",
    "    d = d % n\n",
    "    gcd = find_gcd(d, n)\n",
    "    for i in range(gcd):\n",
    "        temp = ar[i]\n",
    "        j = i\n",
    "        while 1:\n",
    "            \"\"\"\n",
    "            looping thru all element in the ith set\n",
    "            \"\"\"\n",
    "            k = j+d\n",
    "            if k>=n:\n",
    "                k = k-n\n",
    "            if k==i:\n",
    "                break\n",
    "            ar[j] = ar[k]\n",
    "            j = k\n",
    "        ar[j] = temp\n",
    "        \n",
    "    return ar\n",
    "\n",
    "input_ar = [1,2,3,4,5,6,7]\n",
    "input_d = 2\n",
    "input_n = 7\n",
    "rotate(input_ar, input_d, input_n)"
   ]
  },
  {
   "cell_type": "markdown",
   "metadata": {},
   "source": [
    "### method 4 - reversal\n",
    "\n",
    "time - O(n)"
   ]
  },
  {
   "cell_type": "code",
   "execution_count": 37,
   "metadata": {},
   "outputs": [
    {
     "data": {
      "text/plain": [
       "[3, 4, 5, 6, 7, 1, 2]"
      ]
     },
     "execution_count": 37,
     "metadata": {},
     "output_type": "execute_result"
    }
   ],
   "source": [
    "def rotate(ar, d, n):\n",
    "    def reverse(arr, start, end):\n",
    "        while start < end:\n",
    "            arr[start], arr[end] = arr[end], arr[start]\n",
    "            start += 1\n",
    "            end -= 1\n",
    "            \n",
    "    if d == 0:\n",
    "        return ar\n",
    "    n = len(ar)\n",
    "    reverse(ar, 0, d-1)\n",
    "    reverse(ar, d, n-1)\n",
    "    reverse(ar, 0, n-1)\n",
    "            \n",
    "    return ar\n",
    "\n",
    "input_ar = [1,2,3,4,5,6,7]\n",
    "input_d = 2\n",
    "input_n = 7\n",
    "rotate(input_ar, input_d, input_n)"
   ]
  },
  {
   "cell_type": "markdown",
   "metadata": {},
   "source": [
    "## Search element in a sorted and rotated array"
   ]
  },
  {
   "cell_type": "markdown",
   "metadata": {},
   "source": [
    "### method 1 --- find pivot point + binary search"
   ]
  },
  {
   "cell_type": "code",
   "execution_count": 1,
   "metadata": {},
   "outputs": [
    {
     "data": {
      "text/plain": [
       "8"
      ]
     },
     "execution_count": 1,
     "metadata": {},
     "output_type": "execute_result"
    }
   ],
   "source": [
    "def pivotedBinarySearch(arr, n, key):\n",
    "    def find_pivot_point(arr, start, end):\n",
    "        if end < start:\n",
    "            return -1\n",
    "        elif end == start:\n",
    "            return end\n",
    "        \n",
    "        mid = int((start+end)/2)\n",
    "        if arr[mid] > arr[mid+1]:\n",
    "            return mid\n",
    "        elif arr[mid] < arr[mid-1]:\n",
    "            return mid-1\n",
    "        \n",
    "        if arr[start] >= arr[mid]:\n",
    "            return find_pivot_point(arr, start, mid-1)\n",
    "        return find_pivot_point(arr, mid+1, end)\n",
    "    def binary_search(arr, start, end):\n",
    "        if end<start:\n",
    "            return -1\n",
    "        mid = int((start+end)/2)\n",
    "        if arr[mid] == key:\n",
    "            return mid\n",
    "        if arr[mid] < key:\n",
    "            return binary_search(arr, mid+1, end)\n",
    "        return binary_search(arr, start, mid-1)\n",
    "    \n",
    "    pivot = find_pivot_point(arr, 0, n-1)\n",
    "    if pivot == -1:\n",
    "        return binary_search(arr, 0, n-1)\n",
    "    \n",
    "    if arr[pivot] == key:\n",
    "        return key\n",
    "    if arr[0] <= key:\n",
    "        return binary_search(arr, 0, pivot-1)\n",
    "    return binary_search(arr, pivot+1, n-1)\n",
    "\n",
    "arr1 = [5, 6, 7, 8, 9, 10, 1, 2, 3] \n",
    "n = len(arr1) \n",
    "key = 3\n",
    "pivotedBinarySearch(arr1, n, key)"
   ]
  },
  {
   "cell_type": "markdown",
   "metadata": {},
   "source": [
    "### method 2 - improved version of method 1\n"
   ]
  },
  {
   "cell_type": "code",
   "execution_count": 13,
   "metadata": {},
   "outputs": [
    {
     "data": {
      "text/plain": [
       "0"
      ]
     },
     "execution_count": 13,
     "metadata": {},
     "output_type": "execute_result"
    }
   ],
   "source": [
    "def solution(arr, l, h, key):\n",
    "    if l > h:\n",
    "        return -1\n",
    "    \n",
    "    mid = int((l+h)/2)\n",
    "    if arr[mid] == key:\n",
    "        return mid\n",
    "    \n",
    "    if arr[l] < arr[mid]:\n",
    "        \"\"\"\n",
    "        left handside is sorted\n",
    "        \"\"\"\n",
    "        if arr[l] <= key and key <= arr[mid]:\n",
    "            return solution(arr, l, mid-1, key)\n",
    "        return solution(arr, mid+1, h, key)\n",
    "\n",
    "    if arr[mid] <= key and key <= arr[h]:\n",
    "        return solution(arr, mid+1, h, key)\n",
    "    return solution(arr, l, mid-1, key)\n",
    "    \n",
    "arr = [6,7,8,1,2,3,4,5] \n",
    "key = 6\n",
    "solution(arr, 0, 7, key)"
   ]
  }
 ],
 "metadata": {
  "kernelspec": {
   "display_name": "ct",
   "language": "python",
   "name": "ct"
  },
  "language_info": {
   "codemirror_mode": {
    "name": "ipython",
    "version": 3
   },
   "file_extension": ".py",
   "mimetype": "text/x-python",
   "name": "python",
   "nbconvert_exporter": "python",
   "pygments_lexer": "ipython3",
   "version": "3.6.10"
  }
 },
 "nbformat": 4,
 "nbformat_minor": 4
}
