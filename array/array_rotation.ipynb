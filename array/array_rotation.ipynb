{
 "cells": [
  {
   "cell_type": "markdown",
   "metadata": {},
   "source": [
    "## rotate(ar[], d, n)rotates array[] of size n by d element\n"
   ]
  },
  {
   "cell_type": "markdown",
   "metadata": {},
   "source": [
    "### method 1 - using temp array\n",
    "time - O(n)\n",
    "\n",
    "space - O(d)"
   ]
  },
  {
   "cell_type": "code",
   "execution_count": 23,
   "metadata": {},
   "outputs": [
    {
     "data": {
      "text/plain": [
       "[3, 4, 5, 6, 7, 1, 2]"
      ]
     },
     "execution_count": 23,
     "metadata": {},
     "output_type": "execute_result"
    }
   ],
   "source": [
    "def rotate(ar, d, n):\n",
    "    temp = ar[:d]\n",
    "    for i in range(d, n):\n",
    "        ar[i-d] = ar[i]\n",
    "    ar[-d:] = temp\n",
    "    return ar\n",
    "\n",
    "input_ar = [1,2,3,4,5,6,7]\n",
    "input_d = 2\n",
    "input_n = 7\n",
    "rotate(input_ar, input_d, input_n)"
   ]
  },
  {
   "cell_type": "markdown",
   "metadata": {},
   "source": [
    "### method 2 - rotate one by one\n",
    "\n",
    "time - O(d x n)\n",
    "\n",
    "space - O(1)"
   ]
  },
  {
   "cell_type": "code",
   "execution_count": 29,
   "metadata": {},
   "outputs": [
    {
     "data": {
      "text/plain": [
       "[3, 4, 5, 6, 7, 1, 2]"
      ]
     },
     "execution_count": 29,
     "metadata": {},
     "output_type": "execute_result"
    }
   ],
   "source": [
    "def rotate(ar, d, n):\n",
    "    def rotate_by_one(arr, n):\n",
    "        temp = arr[0]\n",
    "        for i in range(1, n):\n",
    "            arr[i-1] = arr[i]\n",
    "        arr[n-1] = temp\n",
    "        return arr\n",
    "    for i in range(d):\n",
    "        ar = rotate_by_one(ar, n)\n",
    "    return ar\n",
    "\n",
    "input_ar = [1,2,3,4,5,6,7]\n",
    "input_d = 2\n",
    "input_n = 7\n",
    "rotate(input_ar, input_d, input_n)"
   ]
  },
  {
   "cell_type": "markdown",
   "metadata": {},
   "source": [
    "### method 3 - extension of method 2\n",
    "\n",
    "time - O(n)\n",
    "\n",
    "space - O(1)"
   ]
  },
  {
   "cell_type": "code",
   "execution_count": 31,
   "metadata": {},
   "outputs": [
    {
     "data": {
      "text/plain": [
       "[3, 4, 5, 6, 7, 1, 2]"
      ]
     },
     "execution_count": 31,
     "metadata": {},
     "output_type": "execute_result"
    }
   ],
   "source": [
    "def rotate(ar, d, n):\n",
    "    def find_gcd(a, b):\n",
    "        \"\"\"\n",
    "        find the greatest common divider\n",
    "        \"\"\"\n",
    "        if b == 0:\n",
    "            return a\n",
    "        return find_gcd(b, a%b)\n",
    "    \n",
    "    d = d % n\n",
    "    gcd = find_gcd(d, n)\n",
    "    for i in range(gcd):\n",
    "        temp = ar[i]\n",
    "        j = i\n",
    "        while 1:\n",
    "            \"\"\"\n",
    "            looping thru all element in the ith set\n",
    "            \"\"\"\n",
    "            k = j+d\n",
    "            if k>=n:\n",
    "                k = k-n\n",
    "            if k==i:\n",
    "                break\n",
    "            ar[j] = ar[k]\n",
    "            j = k\n",
    "        ar[j] = temp\n",
    "        \n",
    "    return ar\n",
    "\n",
    "input_ar = [1,2,3,4,5,6,7]\n",
    "input_d = 2\n",
    "input_n = 7\n",
    "rotate(input_ar, input_d, input_n)"
   ]
  },
  {
   "cell_type": "markdown",
   "metadata": {},
   "source": [
    "### method 4 - reversal\n",
    "\n",
    "time - O(n)"
   ]
  },
  {
   "cell_type": "code",
   "execution_count": 37,
   "metadata": {},
   "outputs": [
    {
     "data": {
      "text/plain": [
       "[3, 4, 5, 6, 7, 1, 2]"
      ]
     },
     "execution_count": 37,
     "metadata": {},
     "output_type": "execute_result"
    }
   ],
   "source": [
    "def rotate(ar, d, n):\n",
    "    def reverse(arr, start, end):\n",
    "        while start < end:\n",
    "            arr[start], arr[end] = arr[end], arr[start]\n",
    "            start += 1\n",
    "            end -= 1\n",
    "            \n",
    "    if d == 0:\n",
    "        return ar\n",
    "    n = len(ar)\n",
    "    reverse(ar, 0, d-1)\n",
    "    reverse(ar, d, n-1)\n",
    "    reverse(ar, 0, n-1)\n",
    "            \n",
    "    return ar\n",
    "\n",
    "input_ar = [1,2,3,4,5,6,7]\n",
    "input_d = 2\n",
    "input_n = 7\n",
    "rotate(input_ar, input_d, input_n)"
   ]
  }
 ],
 "metadata": {
  "kernelspec": {
   "display_name": "ct",
   "language": "python",
   "name": "ct"
  },
  "language_info": {
   "codemirror_mode": {
    "name": "ipython",
    "version": 3
   },
   "file_extension": ".py",
   "mimetype": "text/x-python",
   "name": "python",
   "nbconvert_exporter": "python",
   "pygments_lexer": "ipython3",
   "version": "3.6.10"
  }
 },
 "nbformat": 4,
 "nbformat_minor": 4
}
