{
 "cells": [
  {
   "cell_type": "markdown",
   "metadata": {},
   "source": [
    "## rotate(ar[], d, n)rotates array[] of size n by d element\n"
   ]
  },
  {
   "cell_type": "code",
   "execution_count": 28,
   "metadata": {},
   "outputs": [],
   "source": [
    "# input\n",
    "input_ar = [1,2,3,4,5,6,7]\n",
    "input_d = 2\n",
    "input_n = 7"
   ]
  },
  {
   "cell_type": "markdown",
   "metadata": {},
   "source": [
    "### method 1 - using temp array\n",
    "time - O(n)\n",
    "\n",
    "space - O(d)"
   ]
  },
  {
   "cell_type": "code",
   "execution_count": 23,
   "metadata": {},
   "outputs": [
    {
     "data": {
      "text/plain": [
       "[3, 4, 5, 6, 7, 1, 2]"
      ]
     },
     "execution_count": 23,
     "metadata": {},
     "output_type": "execute_result"
    }
   ],
   "source": [
    "def rotate(ar, d, n):\n",
    "    temp = ar[:d]\n",
    "    for i in range(d, n):\n",
    "        ar[i-d] = ar[i]\n",
    "    ar[-d:] = temp\n",
    "    return ar\n",
    "\n",
    "\n",
    "rotate(input_ar, input_d, input_n)"
   ]
  },
  {
   "cell_type": "markdown",
   "metadata": {},
   "source": [
    "### method 2 - rotate one by one\n",
    "\n",
    "time - O(d x n)\n",
    "\n",
    "space - O(1)"
   ]
  },
  {
   "cell_type": "code",
   "execution_count": 29,
   "metadata": {},
   "outputs": [
    {
     "data": {
      "text/plain": [
       "[3, 4, 5, 6, 7, 1, 2]"
      ]
     },
     "execution_count": 29,
     "metadata": {},
     "output_type": "execute_result"
    }
   ],
   "source": [
    "def rotate(ar, d, n):\n",
    "    def rotate_by_one(arr, n):\n",
    "        temp = arr[0]\n",
    "        for i in range(1, n):\n",
    "            arr[i-1] = arr[i]\n",
    "        arr[n-1] = temp\n",
    "        return arr\n",
    "    for i in range(d):\n",
    "        ar = rotate_by_one(ar, n)\n",
    "    return ar\n",
    "\n",
    "rotate(input_ar, input_d, input_n)"
   ]
  },
  {
   "cell_type": "code",
   "execution_count": null,
   "metadata": {},
   "outputs": [],
   "source": []
  }
 ],
 "metadata": {
  "kernelspec": {
   "display_name": "ct",
   "language": "python",
   "name": "ct"
  },
  "language_info": {
   "codemirror_mode": {
    "name": "ipython",
    "version": 3
   },
   "file_extension": ".py",
   "mimetype": "text/x-python",
   "name": "python",
   "nbconvert_exporter": "python",
   "pygments_lexer": "ipython3",
   "version": "3.6.10"
  }
 },
 "nbformat": 4,
 "nbformat_minor": 4
}
