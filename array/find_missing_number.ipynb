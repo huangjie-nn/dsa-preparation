{
 "cells": [
  {
   "cell_type": "markdown",
   "metadata": {},
   "source": [
    "## Find missing number"
   ]
  },
  {
   "cell_type": "markdown",
   "metadata": {},
   "source": [
    "Given a list of n-1 integers in the range of 1 to n. No duplicates. One of the interger is missing. Find the missing value"
   ]
  },
  {
   "cell_type": "markdown",
   "metadata": {},
   "source": [
    "### using summation"
   ]
  },
  {
   "cell_type": "code",
   "execution_count": 4,
   "metadata": {},
   "outputs": [
    {
     "data": {
      "text/plain": [
       "4.0"
      ]
     },
     "execution_count": 4,
     "metadata": {},
     "output_type": "execute_result"
    }
   ],
   "source": [
    "def solution(arr):\n",
    "    arr_sum = sum(arr)\n",
    "    n = len(arr)\n",
    "    total = (n+1)*(n+2)/2\n",
    "    return total - arr_sum\n",
    "  \n",
    "arr = [1,2,3,5,6,7]\n",
    "solution(arr)"
   ]
  },
  {
   "cell_type": "markdown",
   "metadata": {},
   "source": [
    "### using summation + fix overflow"
   ]
  },
  {
   "cell_type": "code",
   "execution_count": 10,
   "metadata": {},
   "outputs": [
    {
     "data": {
      "text/plain": [
       "4"
      ]
     },
     "execution_count": 10,
     "metadata": {},
     "output_type": "execute_result"
    }
   ],
   "source": [
    "def solution(arr): \n",
    "    i, total = 0, 1\n",
    "    n = len(arr)\n",
    "    for i in range(2, n + 2):\n",
    "        total += i\n",
    "        total -= arr[i - 2]\n",
    "    return total\n",
    "\n",
    "arr = [1,2,3,5,6,7]\n",
    "solution(arr)"
   ]
  },
  {
   "cell_type": "markdown",
   "metadata": {},
   "source": [
    "### using xor\n",
    "\n",
    "Approach: \n",
    "\n",
    "XOR has certain properties \n",
    "\n",
    "Assume a1 ^ a2 ^ a3 ^ …^ an = a and a1 ^ a2 ^ a3 ^ …^ an-1 = b\n",
    "Then a ^ b = an\n",
    "\n",
    "Algorithm: \n",
    "\n",
    "1. Create two variables a = 0 and b = 0\n",
    "\n",
    "2. Run a loop from 1 to n with i as counter.\n",
    "\n",
    "3. For every index update a as a = a ^ i\n",
    "\n",
    "4. Now traverse the array from start to end.\n",
    "\n",
    "5. For every index update b as b = b ^ array[i]\n",
    "\n",
    "6. Print the missing number as a ^ b."
   ]
  },
  {
   "cell_type": "code",
   "execution_count": 20,
   "metadata": {},
   "outputs": [
    {
     "data": {
      "text/plain": [
       "4"
      ]
     },
     "execution_count": 20,
     "metadata": {},
     "output_type": "execute_result"
    }
   ],
   "source": [
    "def solution(arr):\n",
    "    x1 = arr[0]\n",
    "    x2 = 1\n",
    "     \n",
    "    n = len(arr)\n",
    "    for i in range(1, n):\n",
    "        x1 = x1 ^ arr[i]\n",
    "         \n",
    "    for i in range(2, n + 2):\n",
    "        x2 = x2 ^ i\n",
    "     \n",
    "    return x1 ^ x2\n",
    "\n",
    "arr = [1,2,3,5,6,7]\n",
    "solution(arr)"
   ]
  }
 ],
 "metadata": {
  "kernelspec": {
   "display_name": "ct",
   "language": "python",
   "name": "ct"
  },
  "language_info": {
   "codemirror_mode": {
    "name": "ipython",
    "version": 3
   },
   "file_extension": ".py",
   "mimetype": "text/x-python",
   "name": "python",
   "nbconvert_exporter": "python",
   "pygments_lexer": "ipython3",
   "version": "3.6.10"
  }
 },
 "nbformat": 4,
 "nbformat_minor": 4
}
