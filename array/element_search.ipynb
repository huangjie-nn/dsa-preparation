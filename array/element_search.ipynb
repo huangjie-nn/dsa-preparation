{
 "cells": [
  {
   "cell_type": "markdown",
   "metadata": {
    "toc-hr-collapsed": true,
    "toc-nb-collapsed": true
   },
   "source": [
    "## search element in pivoted sorted array"
   ]
  },
  {
   "cell_type": "markdown",
   "metadata": {},
   "source": [
    "### method 1 --- find pivot point + binary search"
   ]
  },
  {
   "cell_type": "code",
   "execution_count": 1,
   "metadata": {},
   "outputs": [
    {
     "data": {
      "text/plain": [
       "8"
      ]
     },
     "execution_count": 1,
     "metadata": {},
     "output_type": "execute_result"
    }
   ],
   "source": [
    "def pivotedBinarySearch(arr, n, key):\n",
    "    def find_pivot_point(arr, start, end):\n",
    "        if end < start:\n",
    "            return -1\n",
    "        elif end == start:\n",
    "            return end\n",
    "        \n",
    "        mid = int((start+end)/2)\n",
    "        if arr[mid] > arr[mid+1]:\n",
    "            return mid\n",
    "        elif arr[mid] < arr[mid-1]:\n",
    "            return mid-1\n",
    "        \n",
    "        if arr[start] >= arr[mid]:\n",
    "            return find_pivot_point(arr, start, mid-1)\n",
    "        return find_pivot_point(arr, mid+1, end)\n",
    "    def binary_search(arr, start, end):\n",
    "        if end<start:\n",
    "            return -1\n",
    "        mid = int((start+end)/2)\n",
    "        if arr[mid] == key:\n",
    "            return mid\n",
    "        if arr[mid] < key:\n",
    "            return binary_search(arr, mid+1, end)\n",
    "        return binary_search(arr, start, mid-1)\n",
    "    \n",
    "    pivot = find_pivot_point(arr, 0, n-1)\n",
    "    if pivot == -1:\n",
    "        return binary_search(arr, 0, n-1)\n",
    "    \n",
    "    if arr[pivot] == key:\n",
    "        return key\n",
    "    if arr[0] <= key:\n",
    "        return binary_search(arr, 0, pivot-1)\n",
    "    return binary_search(arr, pivot+1, n-1)\n",
    "\n",
    "arr1 = [5, 6, 7, 8, 9, 10, 1, 2, 3] \n",
    "n = len(arr1) \n",
    "key = 3\n",
    "pivotedBinarySearch(arr1, n, key)"
   ]
  },
  {
   "cell_type": "markdown",
   "metadata": {},
   "source": [
    "### method 2 - improved version of method 1\n"
   ]
  },
  {
   "cell_type": "code",
   "execution_count": 13,
   "metadata": {},
   "outputs": [
    {
     "data": {
      "text/plain": [
       "0"
      ]
     },
     "execution_count": 13,
     "metadata": {},
     "output_type": "execute_result"
    }
   ],
   "source": [
    "def solution(arr, l, h, key):\n",
    "    if l > h:\n",
    "        return -1\n",
    "    \n",
    "    mid = int((l+h)/2)\n",
    "    if arr[mid] == key:\n",
    "        return mid\n",
    "    \n",
    "    if arr[l] < arr[mid]:\n",
    "        \"\"\"\n",
    "        left handside is sorted\n",
    "        \"\"\"\n",
    "        if arr[l] <= key and key <= arr[mid]:\n",
    "            return solution(arr, l, mid-1, key)\n",
    "        return solution(arr, mid+1, h, key)\n",
    "\n",
    "    if arr[mid] <= key and key <= arr[h]:\n",
    "        return solution(arr, mid+1, h, key)\n",
    "    return solution(arr, l, mid-1, key)\n",
    "    \n",
    "arr = [6,7,8,1,2,3,4,5] \n",
    "key = 6\n",
    "solution(arr, 0, 7, key)"
   ]
  }
 ],
 "metadata": {
  "kernelspec": {
   "display_name": "ct",
   "language": "python",
   "name": "ct"
  },
  "language_info": {
   "codemirror_mode": {
    "name": "ipython",
    "version": 3
   },
   "file_extension": ".py",
   "mimetype": "text/x-python",
   "name": "python",
   "nbconvert_exporter": "python",
   "pygments_lexer": "ipython3",
   "version": "3.6.10"
  },
  "toc-autonumbering": true
 },
 "nbformat": 4,
 "nbformat_minor": 4
}
