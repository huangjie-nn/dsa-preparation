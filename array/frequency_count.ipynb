{
 "cells": [
  {
   "cell_type": "markdown",
   "metadata": {},
   "source": [
    "## find majority element (occurancy > n/2)"
   ]
  },
  {
   "cell_type": "markdown",
   "metadata": {},
   "source": [
    "### use hashing\n"
   ]
  },
  {
   "cell_type": "code",
   "execution_count": 4,
   "metadata": {},
   "outputs": [
    {
     "data": {
      "text/plain": [
       "1"
      ]
     },
     "execution_count": 4,
     "metadata": {},
     "output_type": "execute_result"
    }
   ],
   "source": [
    "def solution(arr):\n",
    "    s = {}\n",
    "    for i in arr:\n",
    "        if i in s:\n",
    "            s[i] += 1\n",
    "        else:\n",
    "            s[i] = 1\n",
    "    for k, v in s.items():\n",
    "        if v > len(arr)/2:\n",
    "            return k\n",
    "    return -1\n",
    "\n",
    "arr = [1,211,1,1,1,3,6,1]\n",
    "solution(arr)"
   ]
  },
  {
   "cell_type": "markdown",
   "metadata": {},
   "source": [
    "### use cancelling"
   ]
  },
  {
   "cell_type": "code",
   "execution_count": null,
   "metadata": {},
   "outputs": [],
   "source": [
    "def solution(arr):\n",
    "    def findCandidate(arr):\n",
    "        count = 0\n",
    "        idx = 0\n",
    "        for i in range(len(arr)):\n",
    "            if arr[idx] == arr[i]:\n",
    "                count += 1\n",
    "            elif arr[idx] != arr[i]:\n",
    "                count -= 1\n",
    "\n",
    "            if count == 0:\n",
    "                idx = i\n",
    "                count = 1\n",
    "            return arr[idx]\n",
    "    def check(arr, can):\n",
    "        count = 0\n",
    "        for i in arr:\n",
    "            if i == can:\n",
    "                count += 1\n",
    "        if count > len(arr)/2:\n",
    "            return can\n",
    "        return -1\n",
    "    \n",
    "    can = findCandidate(arr)\n",
    "    return check(arr, can)\n",
    "\n",
    "arr = [1,211,1,1,1,3,6,1]\n",
    "solution(arr)"
   ]
  },
  {
   "cell_type": "markdown",
   "metadata": {},
   "source": [
    "## find element with odd occurance"
   ]
  },
  {
   "cell_type": "markdown",
   "metadata": {},
   "source": [
    "### using hashing\n"
   ]
  },
  {
   "cell_type": "code",
   "execution_count": 10,
   "metadata": {},
   "outputs": [
    {
     "data": {
      "text/plain": [
       "[]"
      ]
     },
     "execution_count": 10,
     "metadata": {},
     "output_type": "execute_result"
    }
   ],
   "source": [
    "def solution(arr):\n",
    "    s = {}\n",
    "    result = []\n",
    "    for i in arr:\n",
    "        if i in s:\n",
    "            s[i] += 1\n",
    "        else:\n",
    "            s[i] = 1\n",
    "    for k, v in s.items():\n",
    "        if v%2 == 1:\n",
    "            result.append(k)\n",
    "    return result\n",
    "\n",
    "arr=[3,2, 3, 5, 4, 3, 2, 4,3, 5, 2, 4, 4, 2] \n",
    "solution(arr)"
   ]
  },
  {
   "cell_type": "markdown",
   "metadata": {},
   "source": [
    "### using xor \n",
    "\n",
    "only applicable when there is just one element with odd occurance"
   ]
  },
  {
   "cell_type": "code",
   "execution_count": 15,
   "metadata": {},
   "outputs": [
    {
     "data": {
      "text/plain": [
       "3"
      ]
     },
     "execution_count": 15,
     "metadata": {},
     "output_type": "execute_result"
    }
   ],
   "source": [
    "def solution(arr):\n",
    "    res = 0\n",
    "    for i in arr:\n",
    "        res = res ^ i\n",
    "    return res\n",
    "\n",
    "arr=[2, 3, 5, 4, 3, 2, 4,3, 5, 2, 4, 4, 2] \n",
    "solution(arr)"
   ]
  }
 ],
 "metadata": {
  "kernelspec": {
   "display_name": "ct",
   "language": "python",
   "name": "ct"
  },
  "language_info": {
   "codemirror_mode": {
    "name": "ipython",
    "version": 3
   },
   "file_extension": ".py",
   "mimetype": "text/x-python",
   "name": "python",
   "nbconvert_exporter": "python",
   "pygments_lexer": "ipython3",
   "version": "3.6.10"
  }
 },
 "nbformat": 4,
 "nbformat_minor": 4
}
