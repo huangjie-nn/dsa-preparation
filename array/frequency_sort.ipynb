{
 "cells": [
  {
   "cell_type": "markdown",
   "metadata": {},
   "source": [
    "## Sort element by frequency. \n",
    "\n",
    "if 2 numbers have same fraquency then first come first"
   ]
  },
  {
   "cell_type": "markdown",
   "metadata": {},
   "source": [
    "### use hashing and sorting"
   ]
  },
  {
   "cell_type": "code",
   "execution_count": 9,
   "metadata": {},
   "outputs": [
    {
     "data": {
      "text/plain": [
       "[8, 8, 8, 2, 2, 5, 5, 6, -1, 9999999]"
      ]
     },
     "execution_count": 9,
     "metadata": {},
     "output_type": "execute_result"
    }
   ],
   "source": [
    "def solution(arr):\n",
    "    def createHash(arr):\n",
    "        s = {}\n",
    "        for i in arr:\n",
    "            if i in s:\n",
    "                s[i] += 1\n",
    "            else:\n",
    "                s[i] = 1\n",
    "        return s\n",
    "    def sort(s):\n",
    "        result = []\n",
    "        sortedS = {k: v for k, v in sorted(s.items(), key=lambda item: item[1], reverse=True)}\n",
    "        \n",
    "        for k, v in sortedS.items():\n",
    "            for idx in range(v):\n",
    "                result.append(k)\n",
    "        \n",
    "        return result\n",
    "    \n",
    "    sorted_dict = createHash(arr)\n",
    "    sortedS = sort(sorted_dict)\n",
    "    return sortedS\n",
    "\n",
    "arr = [ 2, 5, 2, 6, -1, 9999999, 5, 8, 8, 8 ]\n",
    "solution(arr)"
   ]
  },
  {
   "cell_type": "code",
   "execution_count": null,
   "metadata": {},
   "outputs": [],
   "source": []
  }
 ],
 "metadata": {
  "kernelspec": {
   "display_name": "ct",
   "language": "python",
   "name": "ct"
  },
  "language_info": {
   "codemirror_mode": {
    "name": "ipython",
    "version": 3
   },
   "file_extension": ".py",
   "mimetype": "text/x-python",
   "name": "python",
   "nbconvert_exporter": "python",
   "pygments_lexer": "ipython3",
   "version": "3.6.10"
  }
 },
 "nbformat": 4,
 "nbformat_minor": 4
}
